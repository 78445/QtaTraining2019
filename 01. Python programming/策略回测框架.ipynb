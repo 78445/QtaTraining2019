{
 "cells": [
  {
   "cell_type": "markdown",
   "metadata": {},
   "source": [
    "# 策略回测框架\n",
    "### 1. 简单回测\n",
    "### 2. 函数封装\n",
    "### 3. 常用回测框架介绍"
   ]
  },
  {
   "cell_type": "markdown",
   "metadata": {},
   "source": [
    "# 1.简单回测\n",
    "策略回测类似于单因子测试， 仅仅使用固定周期的股票持仓来获取该周期的收益，从而获取整体收益"
   ]
  },
  {
   "cell_type": "markdown",
   "metadata": {},
   "source": [
    "## 1.1 读取数据\n",
    "这里我直接从本地读取数据，行情数据来源于实习公司\n",
    "如果没有现成的数据的话可以从tushare（ https://tushare.pro ）中读取行情、财务或者部分常用因子数据（学生可以免费获取几乎所有数据权限）"
   ]
  },
  {
   "cell_type": "code",
   "execution_count": 4,
   "metadata": {},
   "outputs": [
    {
     "name": "stdout",
     "output_type": "stream",
     "text": [
      "('Connection aborted.', error(54, 'Connection reset by peer'))\n"
     ]
    }
   ],
   "source": [
    "import tushare as ts\n",
    "ts.set_token('2e2c63d79c07d8f2cd100e087b96921eae394d582b75de9e8fdc5277')\n",
    "pro = ts.pro_api()\n",
    "df = ts.pro_bar(pro_api=pro,ts_code='000001.SZ', adj='qfq', start_date='20180101', end_date='20181011')"
   ]
  },
  {
   "cell_type": "code",
   "execution_count": 138,
   "metadata": {
    "collapsed": true
   },
   "outputs": [],
   "source": [
    "import pandas as pd \n",
    "\n",
    "factor = pd.read_csv(\"stock_pred_prob_120.csv\",index_col = 0) #读取单个因子数据"
   ]
  },
  {
   "cell_type": "code",
   "execution_count": 2,
   "metadata": {
    "collapsed": true,
    "scrolled": true
   },
   "outputs": [],
   "source": [
    "import scipy.io\n",
    "\n",
    "mkt_data = scipy.io.loadmat('Market_data_all_20190831.mat')"
   ]
  },
  {
   "cell_type": "code",
   "execution_count": 3,
   "metadata": {},
   "outputs": [],
   "source": [
    "#读取时间列表\n",
    "date_list = mkt_data[\"row_days\"].T[0]\n",
    "date_list = [a for a in date_list if a > 20100101 and a < 20190101] \n",
    "date_list.sort()"
   ]
  },
  {
   "cell_type": "code",
   "execution_count": 7,
   "metadata": {},
   "outputs": [],
   "source": [
    "#读取股票列表\n",
    "stock_list  = []\n",
    "for i in range(len(mkt_data[\"column_stock\"].tolist()[0])):\n",
    "    stock_list.append(mkt_data[\"column_stock\"].tolist()[0][i].tolist()[0])"
   ]
  },
  {
   "cell_type": "code",
   "execution_count": 208,
   "metadata": {},
   "outputs": [],
   "source": [
    "#将行情数据中的指数成分股数据转化dataframe\n",
    "def get_index_stock(index_name):\n",
    "    index_stock = pd.DataFrame(mkt_data[index_name])\n",
    "    index_stock.index = mkt_data[\"row_days\"].T[0]\n",
    "    index_stock.columns = stock_list\n",
    "    return index_stock.loc[date_list]\n",
    "\n",
    "#获取中证500的股票池\n",
    "index_stock = get_index_stock(\"zz500pool\")\n",
    "\n",
    "#读取股票收益数据\n",
    "stock_return = pd.DataFrame(mkt_data[\"stk_price_info\"][0][0][0],index = mkt_data[\"row_days\"].T[0],columns = stock_list)\n",
    "stock_return = stock_return.loc[date_list]\n",
    "\n",
    "#读取是否交易和ST股票数据\n",
    "istrade = pd.DataFrame(mkt_data[\"stk_price_info\"][0][0][5],index = mkt_data[\"row_days\"].T[0],columns = stock_list).loc[date_list]\n",
    "isst = pd.DataFrame(mkt_data[\"stk_price_info\"][0][0][6],index = mkt_data[\"row_days\"].T[0],columns = stock_list).loc[date_list]"
   ]
  },
  {
   "cell_type": "code",
   "execution_count": 11,
   "metadata": {
    "collapsed": true
   },
   "outputs": [],
   "source": [
    "#读取股票行情数据\n",
    "stock_price_low = pd.DataFrame(mkt_data['stk_price_info'][0][0][1],index = mkt_data[\"row_days\"].T[0],\n",
    "                                     columns = stock_list).loc[date_list,stock_list]\n",
    "stock_price_high = pd.DataFrame(mkt_data['stk_price_info'][0][0][2],index = mkt_data[\"row_days\"].T[0],\n",
    "                                      columns = stock_list).loc[date_list,stock_list]\n",
    "stock_price_close = pd.DataFrame(mkt_data['stk_price_info'][0][0][3],index = mkt_data[\"row_days\"].T[0],\n",
    "                                       columns = stock_list).loc[date_list,stock_list]\n",
    "stock_price_open = pd.DataFrame(mkt_data['stk_price_info'][0][0][4],index = mkt_data[\"row_days\"].T[0],\n",
    "                                      columns = stock_list).loc[date_list,stock_list]\n",
    "split_adjusted = pd.DataFrame(mkt_data['stk_price_info'][0][0][8],index = mkt_data[\"row_days\"].T[0],\n",
    "                              columns = stock_list).loc[date_list,stock_list]\n",
    "\n",
    "stock_price_low =  split_adjusted * stock_price_low\n",
    "stock_price_high = split_adjusted * stock_price_high\n",
    "stock_price_close = split_adjusted * stock_price_close\n",
    "stock_price_open = split_adjusted * stock_price_open"
   ]
  },
  {
   "cell_type": "markdown",
   "metadata": {},
   "source": [
    "## 1.2 计算每个周期的收益率\n",
    "（1）因子是日频日子，所以按照每天来计算收益率，但是要注意计算因子通常是在当天收盘之后，所以因子的收益率是后一天的收益率  \n",
    "（2）步骤：根据因子确定股票池->计算股票池权重->计算股票池收益率"
   ]
  },
  {
   "cell_type": "code",
   "execution_count": 151,
   "metadata": {
    "scrolled": true
   },
   "outputs": [
    {
     "name": "stdout",
     "output_type": "stream",
     "text": [
      "('time used:', 5.318649768829346)\n"
     ]
    },
    {
     "data": {
      "text/plain": [
       "20100706    0.032730\n",
       "20100707    0.017628\n",
       "20100708    0.002709\n",
       "20100709    0.038416\n",
       "20100712    0.019103\n",
       "20100713   -0.013029\n",
       "20100714    0.021203\n",
       "20100715   -0.020154\n",
       "20100716    0.008514\n",
       "20100719    0.028087\n",
       "20100720    0.035658\n",
       "20100721    0.007946\n",
       "20100722    0.021153\n",
       "20100723    0.001895\n",
       "20100726    0.020387\n",
       "20100727    0.008104\n",
       "20100728    0.025385\n",
       "20100729    0.013396\n",
       "20100730    0.002890\n",
       "20100802    0.024156\n",
       "20100803   -0.008219\n",
       "20100804    0.009568\n",
       "20100805    0.012515\n",
       "20100806    0.023933\n",
       "20100809    0.018180\n",
       "20100810   -0.033756\n",
       "20100811    0.014084\n",
       "20100812   -0.009605\n",
       "20100813    0.024987\n",
       "20100816    0.023227\n",
       "              ...   \n",
       "20181116    0.010258\n",
       "20181119    0.009084\n",
       "20181120   -0.022321\n",
       "20181121    0.024560\n",
       "20181122    0.007195\n",
       "20181123   -0.047935\n",
       "20181126    0.007740\n",
       "20181127    0.014037\n",
       "20181128    0.021817\n",
       "20181129   -0.019212\n",
       "20181130    0.020600\n",
       "20181203    0.035591\n",
       "20181204    0.020469\n",
       "20181205   -0.003645\n",
       "20181206   -0.007499\n",
       "20181207    0.007990\n",
       "20181210   -0.011470\n",
       "20181211    0.017786\n",
       "20181212    0.006425\n",
       "20181213    0.010505\n",
       "20181214   -0.023787\n",
       "20181217    0.011538\n",
       "20181218    0.000026\n",
       "20181219   -0.006404\n",
       "20181220    0.007697\n",
       "20181221   -0.003307\n",
       "20181224    0.018601\n",
       "20181225   -0.013941\n",
       "20181226    0.004476\n",
       "20181227   -0.013633\n",
       "Length: 2065, dtype: float64"
      ]
     },
     "execution_count": 151,
     "metadata": {},
     "output_type": "execute_result"
    }
   ],
   "source": [
    "import time\n",
    "factor = factor.shift(1)[1:] #将因子表整体向下平移一格，用来表示计算因子收益率应当用后一天的收益\n",
    "start_time = time.time()\n",
    "port_return = []\n",
    "for date in factor.index:\n",
    "    sort_fac = factor.loc[date].sort_values(ascending = False) #将因子按照从大到小排序\n",
    "    port_stock = sort_fac[:100].index.tolist() #取因子最大前100个股票\n",
    "    port_weight = pd.Series(1./len(port_stock),index = port_stock) #分配每个股票的权重，等权\n",
    "    port_return_day  = (port_weight * stock_return.loc[date,port_weight.index]).sum() #计算股票池收益率\n",
    "    port_return.append(port_return_day) #将当天收益率添加到收益率列表中\n",
    "port_return = pd.Series(port_return,index = factor.index) #将列表数据转化成series格式，index是日期序列\n",
    "end_time = time.time()\n",
    "print (\"time used:\",(end_time - start_time))\n",
    "port_return"
   ]
  },
  {
   "cell_type": "code",
   "execution_count": 237,
   "metadata": {
    "scrolled": true
   },
   "outputs": [
    {
     "name": "stdout",
     "output_type": "stream",
     "text": [
      "('time used:', 1.7250890731811523)\n"
     ]
    },
    {
     "data": {
      "text/plain": [
       "20100706    0.032730\n",
       "20100707    0.017628\n",
       "20100708    0.002709\n",
       "20100709    0.038416\n",
       "20100712    0.019103\n",
       "20100713   -0.013029\n",
       "20100714    0.021203\n",
       "20100715   -0.020154\n",
       "20100716    0.008514\n",
       "20100719    0.028087\n",
       "20100720    0.035658\n",
       "20100721    0.007946\n",
       "20100722    0.021153\n",
       "20100723    0.001895\n",
       "20100726    0.020387\n",
       "20100727    0.008104\n",
       "20100728    0.025385\n",
       "20100729    0.013396\n",
       "20100730    0.002890\n",
       "20100802    0.024156\n",
       "20100803   -0.008219\n",
       "20100804    0.009568\n",
       "20100805    0.012515\n",
       "20100806    0.023933\n",
       "20100809    0.018180\n",
       "20100810   -0.033756\n",
       "20100811    0.014084\n",
       "20100812   -0.009605\n",
       "20100813    0.024987\n",
       "20100816    0.023227\n",
       "              ...   \n",
       "20181116    0.010258\n",
       "20181119    0.009084\n",
       "20181120   -0.022321\n",
       "20181121    0.024560\n",
       "20181122    0.007195\n",
       "20181123   -0.047935\n",
       "20181126    0.007740\n",
       "20181127    0.014037\n",
       "20181128    0.021817\n",
       "20181129   -0.019212\n",
       "20181130    0.020600\n",
       "20181203    0.035591\n",
       "20181204    0.020469\n",
       "20181205   -0.003645\n",
       "20181206   -0.007500\n",
       "20181207    0.007990\n",
       "20181210   -0.011470\n",
       "20181211    0.017786\n",
       "20181212    0.006425\n",
       "20181213    0.010505\n",
       "20181214   -0.023787\n",
       "20181217    0.011538\n",
       "20181218    0.000026\n",
       "20181219   -0.006404\n",
       "20181220    0.007697\n",
       "20181221   -0.003307\n",
       "20181224    0.018601\n",
       "20181225   -0.013941\n",
       "20181226    0.004476\n",
       "20181227   -0.013633\n",
       "Length: 2065, dtype: float64"
      ]
     },
     "execution_count": 237,
     "metadata": {},
     "output_type": "execute_result"
    }
   ],
   "source": [
    "#利用表操作提升运算速度\n",
    "import numpy as np\n",
    "start_time = time.time()\n",
    "\n",
    "min_fac = np.sort(factor.values*-1,axis = 1)[:,100]*-1 #取每一行排序后的的第100个值\n",
    "port_weight = (factor.T >  min_fac).T #每一行比第100个值大的为TRUE，由于dataframe会自动用每一列和数组进行比较所以需要转置\n",
    "port_weight = port_weight/100. #等权重设置\n",
    "\n",
    "port_return = (port_weight * stock_return.loc[port_weight.index,port_weight.columns]).sum(axis = 1)#计算收益率\n",
    "end_time = time.time()\n",
    "print (\"time used:\",(end_time - start_time))\n",
    "port_return"
   ]
  },
  {
   "cell_type": "code",
   "execution_count": 156,
   "metadata": {},
   "outputs": [
    {
     "data": {
      "image/png": "[encoded data removed]",
      "text/plain": [
       "<matplotlib.figure.Figure at 0x136f3b450>"
      ]
     },
     "metadata": {},
     "output_type": "display_data"
    }
   ],
   "source": [
    "from matplotlib import pyplot as plt\n",
    "import datetime \n",
    "cum_port_return = (port_return + 1).cumprod()\n",
    "plt.figure()\n",
    "x_plot = [datetime.datetime.strptime(str(d), '%Y%m%d').date() for d in cum_port_return.index]\n",
    "plt.plot(x_plot,cum_port_return)\n",
    "plt.show()\n",
    "plt.close()"
   ]
  },
  {
   "cell_type": "code",
   "execution_count": 157,
   "metadata": {},
   "outputs": [
    {
     "data": {
      "image/png": "[encoded data removed]",
      "text/plain": [
       "<matplotlib.figure.Figure at 0x12976ae10>"
      ]
     },
     "metadata": {},
     "output_type": "display_data"
    }
   ],
   "source": [
    "cum_port_return = port_return.cumsum() + 1\n",
    "plt.figure()\n",
    "x_plot = [datetime.datetime.strptime(str(d), '%Y%m%d').date() for d in cum_port_return.index]\n",
    "plt.plot(x_plot,cum_port_return)\n",
    "plt.show()"
   ]
  },
  {
   "cell_type": "markdown",
   "metadata": {},
   "source": [
    "（3）扣除交易费用"
   ]
  },
  {
   "cell_type": "code",
   "execution_count": 193,
   "metadata": {
    "scrolled": true
   },
   "outputs": [
    {
     "data": {
      "text/plain": [
       "<matplotlib.figure.Figure at 0x135e581d0>"
      ]
     },
     "metadata": {},
     "output_type": "display_data"
    },
    {
     "data": {
      "image/png": "[encoded data removed]",
      "text/plain": [
       "<matplotlib.figure.Figure at 0x1295d3ad0>"
      ]
     },
     "metadata": {},
     "output_type": "display_data"
    }
   ],
   "source": [
    "BP = 0.0001\n",
    "#计算两期的权重差异之和，权重差异的绝对值为调仓权重占总权重的比例\n",
    "port_weight_change = (port_weight - port_weight.shift(1)).abs().sum(axis = 1)\n",
    "port_weight_change.iloc[0] = 1.\n",
    "port_return_tran  = port_return - port_weight_change*10*BP\n",
    "cum_port_return = port_return_tran.cumsum() + 1\n",
    "plt.figure()\n",
    "x_plot = [datetime.datetime.strptime(str(d), '%Y%m%d').date() for d in cum_port_return.index]\n",
    "plt.plot(x_plot,cum_port_return)\n",
    "plt.show()"
   ]
  },
  {
   "cell_type": "markdown",
   "metadata": {},
   "source": [
    "(5)通常需要和股指进行对冲，对冲掉市场（beta）风险"
   ]
  },
  {
   "cell_type": "code",
   "execution_count": 200,
   "metadata": {},
   "outputs": [
    {
     "data": {
      "image/png": "[encoded data removed]",
      "text/plain": [
       "<matplotlib.figure.Figure at 0x136ea7b10>"
      ]
     },
     "metadata": {},
     "output_type": "display_data"
    }
   ],
   "source": [
    "index_stock = index_stock.replace(0,np.nan)\n",
    "benchmark  = (index_stock * stock_return.loc[index_stock.index,index_stock.columns]).mean(axis = 1,skipna  = True)\n",
    "port_return_tran = port_return_tran - benchmark[port_return_tran.index]\n",
    "\n",
    "cum_port_return = port_return_tran.cumsum() + 1\n",
    "plt.figure()\n",
    "x_plot = [datetime.datetime.strptime(str(d), '%Y%m%d').date() for d in cum_port_return.index]\n",
    "plt.plot(x_plot,cum_port_return)\n",
    "plt.show()"
   ]
  },
  {
   "cell_type": "markdown",
   "metadata": {},
   "source": [
    "## 1.3 计算相关回测指标"
   ]
  },
  {
   "cell_type": "code",
   "execution_count": 202,
   "metadata": {
    "collapsed": true
   },
   "outputs": [],
   "source": [
    "def MaxDrawdown(df,cal_type = 0):\n",
    "    '''最大回撤率'''\n",
    "    if cal_type  == 0:\n",
    "        df = (df + 1).cumprod()\n",
    "    elif cal_type == 1:\n",
    "        df = df.cumsum() + 1\n",
    "    j = np.argmax((np.maximum.accumulate(df.values) - df.values))# 结束位置\n",
    "    if j == 0:\n",
    "        return 0\n",
    "    i = np.argmax(df.values[:j])  # 开始位置\n",
    "    return (df.values[i] - df.values[j]) / (df.values[i])*100,df.index[i],df.index[j]\n",
    "def annualized_return(df,cal_type = 0):\n",
    "    '''年化收益率'''\n",
    "    if cal_type == 0:\n",
    "        df = (df + 1).cumprod() \n",
    "        return (df.values[-1]**(260./float(len(df))) - 1)*100\n",
    "    elif cal_type == 1:\n",
    "        return df.mean()*250*100\n",
    "def annualized_volatility(df):\n",
    "    '''年化波动率'''\n",
    "    return (260.**0.5*df.std(ddof = 1))*100\n",
    "def port_IR(df,cal_type = 0):\n",
    "    if (cal_type == 0):\n",
    "        return annualized_return(df)/annualized_volatility(df)\n",
    "    elif (cal_type == 1):\n",
    "        return annualized_return(df,1)/annualized_volatility(df)"
   ]
  },
  {
   "cell_type": "code",
   "execution_count": 207,
   "metadata": {},
   "outputs": [
    {
     "name": "stdout",
     "output_type": "stream",
     "text": [
      "('MaxDrawdown:', (17.500098386985982, 20141023, 20150602))\n",
      "('annualized_return:', 61.845802179093553)\n",
      "('annualized_volatility:', 31.311257232156219)\n",
      "('port_IR:', 1.9751938327017666)\n"
     ]
    }
   ],
   "source": [
    "print (\"MaxDrawdown:\",MaxDrawdown(port_return_tran,cal_type = 1))\n",
    "print (\"annualized_return:\",annualized_return(port_return_tran,cal_type = 1))\n",
    "print (\"annualized_volatility:\",annualized_volatility(port_return_tran))\n",
    "print (\"port_IR:\",port_IR(port_return_tran,cal_type = 1))"
   ]
  },
  {
   "cell_type": "markdown",
   "metadata": {},
   "source": [
    "## 1.4 常需要注意的点\n",
    "（1）无法交易的股票"
   ]
  },
  {
   "cell_type": "code",
   "execution_count": 281,
   "metadata": {
    "scrolled": true
   },
   "outputs": [],
   "source": [
    "#port_weight_temp = port_weight.copy()\n",
    "port_weight = port_weight_temp.copy()"
   ]
  },
  {
   "cell_type": "code",
   "execution_count": 282,
   "metadata": {
    "scrolled": true
   },
   "outputs": [
    {
     "data": {
      "text/plain": [
       "20100706    1.000000\n",
       "20100707    1.000000\n",
       "20100708    0.999600\n",
       "20100709    0.999616\n",
       "20100712    1.000000\n",
       "20100713    1.000000\n",
       "20100714    0.999900\n",
       "20100715    1.000000\n",
       "20100716    0.999100\n",
       "20100719    0.999906\n",
       "20100720    0.999902\n",
       "20100721    1.000000\n",
       "20100722    0.999900\n",
       "20100723    1.000000\n",
       "20100726    0.999100\n",
       "20100727    0.999906\n",
       "20100728    1.000000\n",
       "20100729    0.999900\n",
       "20100730    0.998432\n",
       "20100802    1.000000\n",
       "20100803    1.000000\n",
       "20100804    1.000000\n",
       "20100805    1.000000\n",
       "20100806    1.000000\n",
       "20100809    0.999600\n",
       "20100810    0.999616\n",
       "20100811    0.997635\n",
       "20100812    0.998622\n",
       "20100813    0.999293\n",
       "20100816    0.998732\n",
       "              ...   \n",
       "20181116    0.999914\n",
       "20181119    0.999916\n",
       "20181120    0.999918\n",
       "20181121    0.999919\n",
       "20181122    0.989834\n",
       "20181123    0.999923\n",
       "20181126    0.999925\n",
       "20181127    0.999926\n",
       "20181128    0.989844\n",
       "20181129    0.989851\n",
       "20181130    0.999932\n",
       "20181203    0.999934\n",
       "20181204    0.999935\n",
       "20181205    0.999936\n",
       "20181206    0.999937\n",
       "20181207    0.999938\n",
       "20181210    0.999939\n",
       "20181211    0.999940\n",
       "20181212    0.999941\n",
       "20181213    0.999942\n",
       "20181214    0.999942\n",
       "20181217    0.999943\n",
       "20181218    0.999697\n",
       "20181219    0.999708\n",
       "20181220    0.999718\n",
       "20181221    0.999727\n",
       "20181224    0.989898\n",
       "20181225    0.999745\n",
       "20181226    0.999753\n",
       "20181227    0.999760\n",
       "Length: 2065, dtype: float64"
      ]
     },
     "execution_count": 282,
     "metadata": {},
     "output_type": "execute_result"
    }
   ],
   "source": [
    "#一字板\n",
    "A = ((stock_price_high / stock_price_close.shift(1) -1) < -0.0985)\n",
    "B = ((stock_price_low / stock_price_close.shift(1) -1) > 0.0985)\n",
    "#停牌\n",
    "C = (istrade == 0)\n",
    "#ST\n",
    "D = (isst == 1)\n",
    "not_trade = (A | B | C).replace(0,np.nan)[port_weight.columns] #统一股票列表\n",
    "not_buy = D.replace(0,np.nan)[port_weight.columns] #统一股票列表\n",
    "\n",
    "for ii in range(len(port_weight.index)):\n",
    "    not_trade_day = not_trade.loc[date].dropna() #选取无法交易的股票列表\n",
    "    not_buy_day = not_buy.loc[date].dropna() #选取不要买入的股票列表\n",
    "    if ii == 0:\n",
    "        date = port_weight.index[ii]\n",
    "        port_weight.loc[date,not_trade_day] = 0. \n",
    "        port_weight.loc[date,not_buy_day] = 0.\n",
    "        port_weight.loc[date] = port_weight.loc[date]/port_weight.loc[date].sum() \n",
    "    else:\n",
    "        date  = port_weight.index[ii]\n",
    "        last_date = port_weight.index[ii-1]\n",
    "        port_weight.loc[date,not_trade_day] = port_weight.loc[last_date,not_trade_day] #无法交易的股票沿用上一期的权重\n",
    "        port_weight.loc[date,not_buy_day] = 0.\n",
    "        res_weight = 1 - port_weight.loc[last_date,not_trade_day].sum()\n",
    "        trade_day = list(set(port_weight.columns.tolist()) - set(not_trade_day))\n",
    "        port_weight.loc[date,trade_day] = port_weight.loc[date,trade_day] * res_weight\n",
    "port_weight.sum(axis = 1)"
   ]
  },
  {
   "cell_type": "code",
   "execution_count": 283,
   "metadata": {},
   "outputs": [
    {
     "data": {
      "image/png": "[encoded data removed]",
      "text/plain": [
       "<matplotlib.figure.Figure at 0x12976eed0>"
      ]
     },
     "metadata": {},
     "output_type": "display_data"
    }
   ],
   "source": [
    "port_return = (port_weight * stock_return.loc[port_weight.index,port_weight.columns]).sum(axis = 1)#计算收益率\n",
    "port_weight_change = (port_weight - port_weight.shift(1)).abs().sum(axis = 1)\n",
    "port_weight_change.iloc[0] = 1.\n",
    "port_return_tran  = port_return - port_weight_change*10*BP\n",
    "port_return_tran = port_return_tran - benchmark[port_return_tran.index]\n",
    "\n",
    "cum_port_return = port_return_tran.cumsum() + 1\n",
    "plt.figure()\n",
    "x_plot = [datetime.datetime.strptime(str(d), '%Y%m%d').date() for d in cum_port_return.index]\n",
    "plt.plot(x_plot,cum_port_return)\n",
    "plt.show()"
   ]
  },
  {
   "cell_type": "markdown",
   "metadata": {},
   "source": [
    "（2）股票权重的变化   \n",
    "当天目标股票权重交易之后，经过一天的交易，权重会发生一定的变化，导致有一些股票沿用上一期权重会出现问题\n",
    "需要将股票的权重更新之后再进行收益率的计算，具体的处理方式是将一天的收益率分成两段，第一段为前一天收盘到当天开盘，第二段为当天开盘到当天收盘"
   ]
  },
  {
   "cell_type": "code",
   "execution_count": 293,
   "metadata": {
    "scrolled": true
   },
   "outputs": [
    {
     "data": {
      "text/plain": [
       "20100706    0.033279\n",
       "20100707    0.018130\n",
       "20100708    0.001292\n",
       "20100709    0.036282\n",
       "20100712    0.018190\n",
       "20100713   -0.014457\n",
       "20100714    0.019322\n",
       "20100715   -0.020590\n",
       "20100716    0.004741\n",
       "20100719    0.026646\n",
       "20100720    0.036997\n",
       "20100721    0.006679\n",
       "20100722    0.020167\n",
       "20100723    0.001584\n",
       "20100726    0.019118\n",
       "20100727    0.006994\n",
       "20100728    0.023654\n",
       "20100729    0.012384\n",
       "20100730    0.001752\n",
       "20100802    0.023434\n",
       "20100803   -0.009327\n",
       "20100804    0.008272\n",
       "20100805    0.010873\n",
       "20100806    0.022141\n",
       "20100809    0.016814\n",
       "20100810   -0.035348\n",
       "20100811    0.013556\n",
       "20100812   -0.011491\n",
       "20100813    0.022511\n",
       "20100816    0.022475\n",
       "              ...   \n",
       "20181116    0.009294\n",
       "20181119    0.008018\n",
       "20181120   -0.023109\n",
       "20181121    0.020373\n",
       "20181122    0.006962\n",
       "20181123   -0.049383\n",
       "20181126    0.006587\n",
       "20181127    0.011672\n",
       "20181128    0.016017\n",
       "20181129   -0.023307\n",
       "20181130    0.016945\n",
       "20181203    0.038326\n",
       "20181204    0.018785\n",
       "20181205   -0.007402\n",
       "20181206   -0.008738\n",
       "20181207    0.004897\n",
       "20181210   -0.014790\n",
       "20181211    0.013835\n",
       "20181212    0.003739\n",
       "20181213    0.007427\n",
       "20181214   -0.027048\n",
       "20181217    0.008679\n",
       "20181218   -0.003258\n",
       "20181219   -0.010031\n",
       "20181220    0.005156\n",
       "20181221   -0.006578\n",
       "20181224    0.013420\n",
       "20181225   -0.014403\n",
       "20181226    0.003444\n",
       "20181227   -0.015665\n",
       "Length: 2065, dtype: float64"
      ]
     },
     "execution_count": 293,
     "metadata": {},
     "output_type": "execute_result"
    }
   ],
   "source": [
    "date_list_ = factor.index.tolist() \n",
    "port_return = pd.Series(index = date_list_)\n",
    "turnover_rate = pd.Series(index = date_list_)\n",
    "last_weight = pd.Series([0]*len(factor.columns),index = factor.columns)\n",
    "for date in date_list_:\n",
    "    today_date_index = date_list_.index(date)\n",
    "    sort_fac = factor.loc[date].sort_values(ascending = False) #将因子按照从大到小排序\n",
    "    port_stock = sort_fac[:100].index.tolist() #取因子最大前100个股票\n",
    "    port_weight = pd.Series(index = factor.columns)\n",
    "    port_weight[port_stock] = 1./len(port_stock) #分配每个股票的权重，等权\n",
    "    if date == date_list_[0]: #对于第一期\n",
    "        new_weight = port_weight #当天的股票池权重就是目标权重\n",
    "        turnover_rate[date] = ((new_weight.fillna(0)-last_weight.fillna(0)).abs().sum())*100 #计算换手率\n",
    "        #计算收盘时权重\n",
    "        close_weight = new_weight *  (stock_price_close.loc[date,new_weight.index]/stock_price_open.loc[date,new_weight.index])  \n",
    "        transacton_cost = turnover_rate[date]/100 * 10 * BP\n",
    "        port_return[date] = close_weight.sum() - 1 - transacton_cost\n",
    "        last_weight = close_weight/close_weight.sum()\n",
    "    else:\n",
    "        last_date = date_list_[today_date_index-1] \n",
    "        #计算开盘时权重，由上一期权重乘以价格跳空得到\n",
    "        open_weight = last_weight * (stock_price_open.loc[date,last_weight.index])/ (stock_price_close.loc[last_date,last_weight.index])\n",
    "        open_weight_sum  = open_weight.sum()\n",
    "        #将目标权重调整为跳空后总的权重\n",
    "        new_weight = port_weight*open_weight_sum\n",
    "        turnover_rate[date] = ((new_weight.fillna(0)-open_weight.fillna(0)).abs().sum())/open_weight_sum * 100 / 2\n",
    "        close_weight = new_weight *  (stock_price_close.loc[date,new_weight.index]/stock_price_open.loc[date,new_weight.index])\n",
    "        transacton_cost = turnover_rate[date]/100 * 10 * BP\n",
    "        port_return[date] = close_weight.sum() - 1 - transacton_cost\n",
    "        last_weight = close_weight/close_weight.sum()\n",
    "port_return"
   ]
  },
  {
   "cell_type": "code",
   "execution_count": 294,
   "metadata": {},
   "outputs": [
    {
     "data": {
      "image/png": "[encoded data removed]",
      "text/plain": [
       "<matplotlib.figure.Figure at 0x1296b0090>"
      ]
     },
     "metadata": {},
     "output_type": "display_data"
    }
   ],
   "source": [
    "port_return_ab = port_return - benchmark[port_return_tran.index]\n",
    "\n",
    "cum_port_return = port_return_ab.cumsum() + 1\n",
    "plt.figure()\n",
    "x_plot = [datetime.datetime.strptime(str(d), '%Y%m%d').date() for d in cum_port_return.index]\n",
    "plt.plot(x_plot,cum_port_return)\n",
    "plt.show()"
   ]
  },
  {
   "cell_type": "markdown",
   "metadata": {},
   "source": [
    "# 2 函数封装"
   ]
  },
  {
   "cell_type": "markdown",
   "metadata": {},
   "source": [
    "# 3. 常用回测框架"
   ]
  },
  {
   "cell_type": "markdown",
   "metadata": {},
   "source": [
    "Zipline(https://github.com/quantopian/zipline) :拥有最大的社区，语法清晰，易于掌握，主要用于美股市场，回测速度较慢  \n",
    "PyAlgoTrade(https://github.com/gbeced/pyalgotrade) :速度较快，较为灵活，不支持 Pandas  \n",
    "vnpy(https://www.vnpy.com) :起源于国内私募的自主量化交易系统。支持大量交易接口，可以通过图形界面进行操作，策略扩展性高  \n",
    "RiceQuant、JoinQuant、Uqer: 国内量化平台，比较类似，支持python读取和处理数据，并且提供API进行回测。看不到具体回测代码，多为个人投资者使用。  \n",
    "特点：事件驱动回测平台"
   ]
  },
  {
   "cell_type": "markdown",
   "metadata": {},
   "source": [
    "（1）事件模块  \n",
    "事件模块包括一个事件的基类，在事件的基类下面则有很多子事件，如市场数据事件(market)、交易信号事件(signal)、委托下单事件(order)和订单成交事件(fill)等。此外，还需要一个事件队列来存储和管理所有子事件。  \n",
    "（2）数据采集模块  \n",
    "数据采集模块可以通过接口获取现在的行情数据和历史数据，该模块能够产生市场数据事件。历史数据的获取能直接读取我们搭建好的数据库，而实时的行情数据可能需要用到交易软件的接口。  \n",
    "（3）策略模块  \n",
    "策略模块与简单回测系统类似，输入bar或者tick数据，生成signal；策略模块可以产生信号事件。  \n",
    "（4）交易执行模块  \n",
    "交易执行模块接收信号事件，决定需要开仓和平仓的头寸数量，输出委托下单事件。该模块再根据委托下单事件进行模拟或者真实的交易，当订单成交事件完成时更新持有资产头寸以及其他相关数据。  \n",
    "（5）资产头寸模块  \n",
    "资产追踪模块贯穿于各个事件之间，它记录资金、仓位、仓位市值等信息。一旦发生了仓位的变动，那么资产头寸模块记录的各种数据将会更新。资产头寸模块的另一个作用是tracing策略执行的全过程，因此会记录所有的交易历史讯息。  \n",
    "（6）事件队列  \n",
    "在回测系统中，所有事件通过事件队列进行管理。当一个事件完成其使命后，就会自觉排到队伍最后，由下一个事件开始它的任务，如此循环。  "
   ]
  },
  {
   "cell_type": "code",
   "execution_count": null,
   "metadata": {
    "collapsed": true
   },
   "outputs": [],
   "source": []
  }
 ],
 "metadata": {
  "kernelspec": {
   "display_name": "Python 2",
   "language": "python",
   "name": "python2"
  },
  "language_info": {
   "codemirror_mode": {
    "name": "ipython",
    "version": 2
   },
   "file_extension": ".py",
   "mimetype": "text/x-python",
   "name": "python",
   "nbconvert_exporter": "python",
   "pygments_lexer": "ipython2",
   "version": "2.7.10"
  }
 },
 "nbformat": 4,
 "nbformat_minor": 2
}
