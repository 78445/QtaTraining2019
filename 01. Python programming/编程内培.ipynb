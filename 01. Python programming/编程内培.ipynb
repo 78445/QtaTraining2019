{
 "cells": [
  {
   "cell_type": "markdown",
   "metadata": {},
   "source": [
    "#### 主要内容：\n",
    "* 基本语法（基础知识、分支与循环结构、函数）\n",
    "* 常用库的使用（NumPy、Pandas）"
   ]
  },
  {
   "cell_type": "markdown",
   "metadata": {},
   "source": [
    "# 一、基本语法"
   ]
  },
  {
   "cell_type": "markdown",
   "metadata": {},
   "source": [
    "## 1. 基础知识"
   ]
  },
  {
   "cell_type": "code",
   "execution_count": 4,
   "metadata": {},
   "outputs": [
    {
     "name": "stdout",
     "output_type": "stream",
     "text": [
      "3 量化交易 True\n"
     ]
    }
   ],
   "source": [
    "#1. 变量的定义与赋值\n",
    "a = 3\n",
    "b = '量化交易'\n",
    "c = True\n",
    "print(a, b, c)"
   ]
  },
  {
   "cell_type": "code",
   "execution_count": 12,
   "metadata": {},
   "outputs": [
    {
     "name": "stdout",
     "output_type": "stream",
     "text": [
      "5\n",
      "6\n",
      "9\n",
      "1.5\n",
      "1\n"
     ]
    }
   ],
   "source": [
    "#2. 基本运算\n",
    "x1 = 3\n",
    "x2 = 2\n",
    "print(x1 + x2)\n",
    "print(x1 * x2)\n",
    "print(x1 ** x2)\n",
    "print(x1 / x2)\n",
    "print(x1 // x2)"
   ]
  },
  {
   "cell_type": "code",
   "execution_count": 13,
   "metadata": {},
   "outputs": [
    {
     "name": "stdout",
     "output_type": "stream",
     "text": [
      "量化交易协会第一次内培\n"
     ]
    }
   ],
   "source": [
    "#字符串\n",
    "x3 = '量化交易'\n",
    "x4 = '协会'\n",
    "x5 = '第一次内培'\n",
    "print(x3 + x4 + x5)"
   ]
  },
  {
   "cell_type": "code",
   "execution_count": 15,
   "metadata": {},
   "outputs": [],
   "source": [
    "#3. 基本的数据结构\n",
    "#1) 列表（list）\n",
    "list1 = [1, '我', True, 1.2345]"
   ]
  },
  {
   "cell_type": "code",
   "execution_count": 17,
   "metadata": {},
   "outputs": [
    {
     "data": {
      "text/plain": [
       "4"
      ]
     },
     "execution_count": 17,
     "metadata": {},
     "output_type": "execute_result"
    }
   ],
   "source": [
    "#列表的一些常用操作\n",
    "len(list1)"
   ]
  },
  {
   "cell_type": "code",
   "execution_count": 20,
   "metadata": {},
   "outputs": [
    {
     "name": "stdout",
     "output_type": "stream",
     "text": [
      "1 1.2345\n"
     ]
    }
   ],
   "source": [
    "i = list1[0]\n",
    "j = list1[-1]\n",
    "print(i, j)"
   ]
  },
  {
   "cell_type": "code",
   "execution_count": 19,
   "metadata": {},
   "outputs": [
    {
     "data": {
      "text/plain": [
       "[1, '我']"
      ]
     },
     "execution_count": 19,
     "metadata": {},
     "output_type": "execute_result"
    }
   ],
   "source": [
    "list1[:2]"
   ]
  },
  {
   "cell_type": "code",
   "execution_count": 21,
   "metadata": {},
   "outputs": [
    {
     "data": {
      "text/plain": [
       "[1, '我', True, 1.2345, 1, '我', True, 1.2345]"
      ]
     },
     "execution_count": 21,
     "metadata": {},
     "output_type": "execute_result"
    }
   ],
   "source": [
    "list1 * 2"
   ]
  },
  {
   "cell_type": "code",
   "execution_count": 22,
   "metadata": {},
   "outputs": [
    {
     "data": {
      "text/plain": [
       "[1, '我', True, 1.2345, 1, 2]"
      ]
     },
     "execution_count": 22,
     "metadata": {},
     "output_type": "execute_result"
    }
   ],
   "source": [
    "list1 + [1, 2]"
   ]
  },
  {
   "cell_type": "code",
   "execution_count": 35,
   "metadata": {},
   "outputs": [],
   "source": [
    "#append()和extend()\n",
    "w = ['量化交易']\n",
    "y = [1, 2, 3, 4, 5678]\n",
    "z = ['a', 'b', 'c']"
   ]
  },
  {
   "cell_type": "code",
   "execution_count": 36,
   "metadata": {},
   "outputs": [
    {
     "name": "stdout",
     "output_type": "stream",
     "text": [
      "['量化交易', [1, 2, 3, 4, 5678]]\n"
     ]
    }
   ],
   "source": [
    "w.append(y)\n",
    "print(w)"
   ]
  },
  {
   "cell_type": "code",
   "execution_count": 37,
   "metadata": {},
   "outputs": [
    {
     "name": "stdout",
     "output_type": "stream",
     "text": [
      "[1, 2, 3, 4, 5678, 'a', 'b', 'c']\n"
     ]
    }
   ],
   "source": [
    "y.extend(z)\n",
    "print(y)"
   ]
  },
  {
   "cell_type": "code",
   "execution_count": 40,
   "metadata": {},
   "outputs": [],
   "source": [
    "#2) 字典(dict)\n",
    "A = {'a': 1, 'b': 2, 'c': 3}"
   ]
  },
  {
   "cell_type": "code",
   "execution_count": 41,
   "metadata": {},
   "outputs": [
    {
     "data": {
      "text/plain": [
       "{'a': 1, 'b': 2, 'c': 3}"
      ]
     },
     "execution_count": 41,
     "metadata": {},
     "output_type": "execute_result"
    }
   ],
   "source": [
    "A"
   ]
  },
  {
   "cell_type": "code",
   "execution_count": 45,
   "metadata": {},
   "outputs": [
    {
     "data": {
      "text/plain": [
       "1"
      ]
     },
     "execution_count": 45,
     "metadata": {},
     "output_type": "execute_result"
    }
   ],
   "source": [
    "A['a']"
   ]
  },
  {
   "cell_type": "code",
   "execution_count": 51,
   "metadata": {},
   "outputs": [
    {
     "data": {
      "text/plain": [
       "[1, 2, 3]"
      ]
     },
     "execution_count": 51,
     "metadata": {},
     "output_type": "execute_result"
    }
   ],
   "source": [
    "list(A.values())"
   ]
  },
  {
   "cell_type": "code",
   "execution_count": 52,
   "metadata": {},
   "outputs": [
    {
     "data": {
      "text/plain": [
       "['a', 'b', 'c']"
      ]
     },
     "execution_count": 52,
     "metadata": {},
     "output_type": "execute_result"
    }
   ],
   "source": [
    "list(A.keys())"
   ]
  },
  {
   "cell_type": "markdown",
   "metadata": {},
   "source": [
    "## 2. 分支与循环结构"
   ]
  },
  {
   "cell_type": "code",
   "execution_count": 1,
   "metadata": {},
   "outputs": [
    {
     "name": "stdout",
     "output_type": "stream",
     "text": [
      "我赚了5块钱。\n"
     ]
    }
   ],
   "source": [
    "#分支结构（if-else语句）\n",
    "price = 30\n",
    "cost = 25\n",
    "if price >= cost:\n",
    "    profit = price - cost\n",
    "    print(\"我赚了{}块钱。\".format(profit))\n",
    "else:\n",
    "    loss = cost - price\n",
    "    print(\"我亏了{}块钱。\".format(loss))"
   ]
  },
  {
   "cell_type": "code",
   "execution_count": 4,
   "metadata": {},
   "outputs": [
    {
     "name": "stdout",
     "output_type": "stream",
     "text": [
      "x = 2\n"
     ]
    }
   ],
   "source": [
    "#注意缩进\n",
    "x = 2\n",
    "if x > 3:\n",
    "    print('x is bigger than 3.')\n",
    "print('x =', x)"
   ]
  },
  {
   "cell_type": "code",
   "execution_count": 6,
   "metadata": {},
   "outputs": [
    {
     "name": "stdout",
     "output_type": "stream",
     "text": [
      "s = 1\n",
      "s = 2\n",
      "s = 3\n"
     ]
    }
   ],
   "source": [
    "#循环结构（while循环和for循环）\n",
    "#while循环\n",
    "s = 1\n",
    "while s <= 3:\n",
    "    print('s =', s)\n",
    "    s += 1"
   ]
  },
  {
   "cell_type": "code",
   "execution_count": 7,
   "metadata": {},
   "outputs": [
    {
     "name": "stdout",
     "output_type": "stream",
     "text": [
      "s = 1\n",
      "s = 2\n",
      "s = 3\n"
     ]
    }
   ],
   "source": [
    "#for循环\n",
    "for s in range(1, 4):\n",
    "    print('s =', s)"
   ]
  },
  {
   "cell_type": "code",
   "execution_count": 16,
   "metadata": {},
   "outputs": [
    {
     "name": "stdout",
     "output_type": "stream",
     "text": [
      "i = 3\n",
      "i = 4\n"
     ]
    }
   ],
   "source": [
    "#break与continue\n",
    "for i in range(3, 9):\n",
    "    if(i == 5):\n",
    "        break;\n",
    "    print('i =', i)"
   ]
  },
  {
   "cell_type": "code",
   "execution_count": 17,
   "metadata": {},
   "outputs": [
    {
     "name": "stdout",
     "output_type": "stream",
     "text": [
      "i = 3\n",
      "i = 5\n",
      "i = 6\n",
      "i = 7\n",
      "i = 8\n"
     ]
    }
   ],
   "source": [
    "for i in range(3, 9):\n",
    "    if(i == 4):\n",
    "        continue;\n",
    "    print('i =', i)"
   ]
  },
  {
   "cell_type": "markdown",
   "metadata": {},
   "source": [
    "## 3. 函数"
   ]
  },
  {
   "cell_type": "code",
   "execution_count": 20,
   "metadata": {},
   "outputs": [],
   "source": [
    "def cay(x, y, z=0):\n",
    "    result = x ** 2 + y ** 3 - z ** 4\n",
    "    print('x = {}, y = {}, z = {}'.format(x, y, z))\n",
    "    return result"
   ]
  },
  {
   "cell_type": "code",
   "execution_count": 21,
   "metadata": {},
   "outputs": [
    {
     "name": "stdout",
     "output_type": "stream",
     "text": [
      "x = 1, y = 2, z = 0\n"
     ]
    },
    {
     "data": {
      "text/plain": [
       "9"
      ]
     },
     "execution_count": 21,
     "metadata": {},
     "output_type": "execute_result"
    }
   ],
   "source": [
    "cay(1, 2)"
   ]
  },
  {
   "cell_type": "code",
   "execution_count": 22,
   "metadata": {},
   "outputs": [
    {
     "name": "stdout",
     "output_type": "stream",
     "text": [
      "x = 1, y = 2, z = 3\n"
     ]
    },
    {
     "data": {
      "text/plain": [
       "-72"
      ]
     },
     "execution_count": 22,
     "metadata": {},
     "output_type": "execute_result"
    }
   ],
   "source": [
    "cay(1, 2, 3)"
   ]
  },
  {
   "cell_type": "markdown",
   "metadata": {},
   "source": [
    "# 二. 常用库的使用"
   ]
  },
  {
   "cell_type": "markdown",
   "metadata": {},
   "source": [
    "## 1. NumPy"
   ]
  },
  {
   "cell_type": "code",
   "execution_count": 23,
   "metadata": {},
   "outputs": [],
   "source": [
    "#导入numpy\n",
    "import numpy as np"
   ]
  },
  {
   "cell_type": "code",
   "execution_count": 28,
   "metadata": {},
   "outputs": [
    {
     "data": {
      "text/plain": [
       "array([1, 2, 3, 4, 5])"
      ]
     },
     "execution_count": 28,
     "metadata": {},
     "output_type": "execute_result"
    }
   ],
   "source": [
    "#创建数组\n",
    "array1 = np.array([1, 2, 3, 4, 5])\n",
    "array1"
   ]
  },
  {
   "cell_type": "code",
   "execution_count": 69,
   "metadata": {},
   "outputs": [
    {
     "data": {
      "text/plain": [
       "5"
      ]
     },
     "execution_count": 69,
     "metadata": {},
     "output_type": "execute_result"
    }
   ],
   "source": [
    "len(array1)"
   ]
  },
  {
   "cell_type": "code",
   "execution_count": 29,
   "metadata": {},
   "outputs": [
    {
     "data": {
      "text/plain": [
       "array([[ 0,  1,  2,  3,  4],\n",
       "       [ 5,  6,  7,  8,  9],\n",
       "       [10, 11, 12, 13, 14],\n",
       "       [15, 16, 17, 18, 19]])"
      ]
     },
     "execution_count": 29,
     "metadata": {},
     "output_type": "execute_result"
    }
   ],
   "source": [
    "array2 = np.arange(20).reshape(4, 5)\n",
    "array2"
   ]
  },
  {
   "cell_type": "code",
   "execution_count": 30,
   "metadata": {},
   "outputs": [
    {
     "data": {
      "text/plain": [
       "array([[  0,   1,   4,   9,  16],\n",
       "       [ 25,  36,  49,  64,  81],\n",
       "       [100, 121, 144, 169, 196],\n",
       "       [225, 256, 289, 324, 361]], dtype=int32)"
      ]
     },
     "execution_count": 30,
     "metadata": {},
     "output_type": "execute_result"
    }
   ],
   "source": [
    "#基本操作\n",
    "array2 ** 2"
   ]
  },
  {
   "cell_type": "code",
   "execution_count": 31,
   "metadata": {},
   "outputs": [
    {
     "data": {
      "text/plain": [
       "array([[ 0. ,  1.5,  3. ,  4.5,  6. ],\n",
       "       [ 7.5,  9. , 10.5, 12. , 13.5],\n",
       "       [15. , 16.5, 18. , 19.5, 21. ],\n",
       "       [22.5, 24. , 25.5, 27. , 28.5]])"
      ]
     },
     "execution_count": 31,
     "metadata": {},
     "output_type": "execute_result"
    }
   ],
   "source": [
    "array2 * 1.5"
   ]
  },
  {
   "cell_type": "code",
   "execution_count": 32,
   "metadata": {},
   "outputs": [
    {
     "data": {
      "text/plain": [
       "array([[ 1,  3,  5,  7,  9],\n",
       "       [ 6,  8, 10, 12, 14],\n",
       "       [11, 13, 15, 17, 19],\n",
       "       [16, 18, 20, 22, 24]])"
      ]
     },
     "execution_count": 32,
     "metadata": {},
     "output_type": "execute_result"
    }
   ],
   "source": [
    "#广播特性\n",
    "array1 + array2"
   ]
  },
  {
   "cell_type": "code",
   "execution_count": 36,
   "metadata": {},
   "outputs": [
    {
     "data": {
      "text/plain": [
       "array([[ 5,  6,  7,  8,  9],\n",
       "       [10, 11, 12, 13, 14]])"
      ]
     },
     "execution_count": 36,
     "metadata": {},
     "output_type": "execute_result"
    }
   ],
   "source": [
    "#切片\n",
    "array2[1:3]"
   ]
  },
  {
   "cell_type": "code",
   "execution_count": 37,
   "metadata": {},
   "outputs": [
    {
     "data": {
      "text/plain": [
       "array([[ 7],\n",
       "       [12]])"
      ]
     },
     "execution_count": 37,
     "metadata": {},
     "output_type": "execute_result"
    }
   ],
   "source": [
    "array2[1:3, 2:3]"
   ]
  },
  {
   "cell_type": "code",
   "execution_count": 35,
   "metadata": {},
   "outputs": [
    {
     "data": {
      "text/plain": [
       "array([[ 5,  6,  7,  8],\n",
       "       [10, 11, 12, 13]])"
      ]
     },
     "execution_count": 35,
     "metadata": {},
     "output_type": "execute_result"
    }
   ],
   "source": [
    "array2[1:3, :-1]"
   ]
  },
  {
   "cell_type": "code",
   "execution_count": 60,
   "metadata": {},
   "outputs": [
    {
     "name": "stdout",
     "output_type": "stream",
     "text": [
      "9.5\n",
      "[ 7.5  8.5  9.5 10.5 11.5]\n",
      "[ 2.  7. 12. 17.]\n",
      "[5.59016994 5.59016994 5.59016994 5.59016994 5.59016994]\n"
     ]
    }
   ],
   "source": [
    "#统计特性\n",
    "print(np.mean(array2))\n",
    "print(np.mean(array2, axis=0))\n",
    "print(np.mean(array2, axis=1))\n",
    "print(np.std(array2, axis=0))"
   ]
  },
  {
   "cell_type": "markdown",
   "metadata": {},
   "source": [
    "## 2. Pandas"
   ]
  },
  {
   "cell_type": "code",
   "execution_count": 38,
   "metadata": {},
   "outputs": [],
   "source": [
    "#导入pandas\n",
    "import pandas as pd"
   ]
  },
  {
   "cell_type": "code",
   "execution_count": 39,
   "metadata": {},
   "outputs": [],
   "source": [
    "#读入excel\n",
    "path = r'D:\\caoxiaolong\\内培\\招新笔试题\\return_daily.xlsx'\n",
    "data = pd.read_excel(path)"
   ]
  },
  {
   "cell_type": "code",
   "execution_count": 42,
   "metadata": {},
   "outputs": [
    {
     "data": {
      "text/html": [
       "<div>\n",
       "<style scoped>\n",
       "    .dataframe tbody tr th:only-of-type {\n",
       "        vertical-align: middle;\n",
       "    }\n",
       "\n",
       "    .dataframe tbody tr th {\n",
       "        vertical-align: top;\n",
       "    }\n",
       "\n",
       "    .dataframe thead th {\n",
       "        text-align: right;\n",
       "    }\n",
       "</style>\n",
       "<table border=\"1\" class=\"dataframe\">\n",
       "  <thead>\n",
       "    <tr style=\"text-align: right;\">\n",
       "      <th></th>\n",
       "      <th>return</th>\n",
       "    </tr>\n",
       "  </thead>\n",
       "  <tbody>\n",
       "    <tr>\n",
       "      <th>2013-04-01</th>\n",
       "      <td>0.013419</td>\n",
       "    </tr>\n",
       "    <tr>\n",
       "      <th>2013-04-02</th>\n",
       "      <td>0.002452</td>\n",
       "    </tr>\n",
       "    <tr>\n",
       "      <th>2013-04-03</th>\n",
       "      <td>0.000489</td>\n",
       "    </tr>\n",
       "    <tr>\n",
       "      <th>2013-04-08</th>\n",
       "      <td>-0.025428</td>\n",
       "    </tr>\n",
       "    <tr>\n",
       "      <th>2013-04-09</th>\n",
       "      <td>0.000502</td>\n",
       "    </tr>\n",
       "  </tbody>\n",
       "</table>\n",
       "</div>"
      ],
      "text/plain": [
       "              return\n",
       "2013-04-01  0.013419\n",
       "2013-04-02  0.002452\n",
       "2013-04-03  0.000489\n",
       "2013-04-08 -0.025428\n",
       "2013-04-09  0.000502"
      ]
     },
     "execution_count": 42,
     "metadata": {},
     "output_type": "execute_result"
    }
   ],
   "source": [
    "#一些基本操作\n",
    "data.head()"
   ]
  },
  {
   "cell_type": "code",
   "execution_count": 43,
   "metadata": {},
   "outputs": [
    {
     "data": {
      "text/plain": [
       "(550, 1)"
      ]
     },
     "execution_count": 43,
     "metadata": {},
     "output_type": "execute_result"
    }
   ],
   "source": [
    "data.shape"
   ]
  },
  {
   "cell_type": "code",
   "execution_count": 70,
   "metadata": {},
   "outputs": [
    {
     "data": {
      "text/plain": [
       "550"
      ]
     },
     "execution_count": 70,
     "metadata": {},
     "output_type": "execute_result"
    }
   ],
   "source": [
    "len(data)"
   ]
  },
  {
   "cell_type": "code",
   "execution_count": 47,
   "metadata": {},
   "outputs": [
    {
     "data": {
      "text/plain": [
       "array([[ 0.01341948],\n",
       "       [ 0.00245218],\n",
       "       [ 0.00048924],\n",
       "       [-0.02542787],\n",
       "       [ 0.00050176],\n",
       "       [-0.02708124],\n",
       "       [ 0.00051546],\n",
       "       [-0.02627512],\n",
       "       [-0.01798942],\n",
       "       [ 0.01023707],\n",
       "       [-0.01386667],\n",
       "       [ 0.03299081],\n",
       "       [ 0.05968586],\n",
       "       [-0.00049407],\n",
       "       [-0.05684627],\n",
       "       [ 0.01677149],\n",
       "       [-0.02938144],\n",
       "       [-0.00690388],\n",
       "       [ 0.01122995],\n",
       "       [ 0.0433633 ],\n",
       "       [ 0.02939686],\n",
       "       [-0.00295421],\n",
       "       [ 0.00641975],\n",
       "       [-0.01226693],\n",
       "       [ 0.00298063],\n",
       "       [-0.01337296],\n",
       "       [-0.03162651],\n",
       "       [ 0.0005184 ],\n",
       "       [ 0.05233161],\n",
       "       [ 0.00393895],\n",
       "       [ 0.02893575],\n",
       "       [ 0.00571973],\n",
       "       [ 0.0028436 ],\n",
       "       [-0.03024575],\n",
       "       [ 0.0082846 ],\n",
       "       [-0.01304978],\n",
       "       [ 0.05778648],\n",
       "       [-0.01481481],\n",
       "       [-0.0037594 ],\n",
       "       [-0.00990566],\n",
       "       [-0.00381134],\n",
       "       [ 0.01052128],\n",
       "       [-0.01514434],\n",
       "       [-0.0326766 ],\n",
       "       [-0.02980626],\n",
       "       [-0.03789042],\n",
       "       [ 0.01436935],\n",
       "       [ 0.00944386],\n",
       "       [ 0.02546778],\n",
       "       [-0.02483528],\n",
       "       [-0.06208054],\n",
       "       [ 0.00894454],\n",
       "       [-0.1001773 ],\n",
       "       [-0.01674877],\n",
       "       [-0.02204409],\n",
       "       [-0.01639344],\n",
       "       [ 0.03854167],\n",
       "       [-0.0220662 ],\n",
       "       [-0.01538462],\n",
       "       [-0.028125  ],\n",
       "       [ 0.00428725],\n",
       "       [ 0.        ],\n",
       "       [-0.04055496],\n",
       "       [ 0.00111235],\n",
       "       [ 0.04444444],\n",
       "       [ 0.1       ],\n",
       "       [ 0.        ],\n",
       "       [ 0.01644101],\n",
       "       [-0.01236917],\n",
       "       [-0.02312139],\n",
       "       [-0.03155819],\n",
       "       [-0.03971487],\n",
       "       [-0.00106045],\n",
       "       [ 0.05732484],\n",
       "       [-0.02008032],\n",
       "       [ 0.00512295],\n",
       "       [-0.01732926],\n",
       "       [-0.02385892],\n",
       "       [ 0.02869288],\n",
       "       [-0.00929752],\n",
       "       [ 0.03441084],\n",
       "       [-0.01008065],\n",
       "       [ 0.01221996],\n",
       "       [-0.00201207],\n",
       "       [ 0.00100806],\n",
       "       [-0.0040282 ],\n",
       "       [-0.00404449],\n",
       "       [ 0.04873096],\n",
       "       [ 0.01645692],\n",
       "       [-0.00666667],\n",
       "       [-0.02205177],\n",
       "       [ 0.0372549 ],\n",
       "       [ 0.01984877],\n",
       "       [ 0.01946247],\n",
       "       [-0.00818182],\n",
       "       [ 0.00366636],\n",
       "       [-0.03013699],\n",
       "       [ 0.02636535],\n",
       "       [-0.00183486],\n",
       "       [-0.02297794],\n",
       "       [ 0.00094073],\n",
       "       [-0.00281955],\n",
       "       [ 0.0131951 ],\n",
       "       [ 0.04186047],\n",
       "       [-0.01071429],\n",
       "       [-0.00451264],\n",
       "       [ 0.        ],\n",
       "       [ 0.09972801],\n",
       "       [ 0.02555647],\n",
       "       [ 0.02009646],\n",
       "       [ 0.06146572],\n",
       "       [-0.01930215],\n",
       "       [-0.000757  ],\n",
       "       [-0.03106061],\n",
       "       [ 0.        ],\n",
       "       [ 0.00703675],\n",
       "       [-0.04736025],\n",
       "       [-0.0195599 ],\n",
       "       [-0.03075644],\n",
       "       [ 0.02058319],\n",
       "       [-0.00168067],\n",
       "       [ 0.02777778],\n",
       "       [ 0.02784603],\n",
       "       [-0.02151394],\n",
       "       [ 0.03338762],\n",
       "       [-0.01576044],\n",
       "       [-0.02241793],\n",
       "       [-0.01638002],\n",
       "       [-0.00083264],\n",
       "       [ 0.01666667],\n",
       "       [ 0.01065574],\n",
       "       [-0.02270884],\n",
       "       [ 0.0439834 ],\n",
       "       [ 0.03338633],\n",
       "       [ 0.03307692],\n",
       "       [-0.02233805],\n",
       "       [ 0.07539985],\n",
       "       [ 0.01983003],\n",
       "       [-0.03472222],\n",
       "       [-0.00215827],\n",
       "       [-0.0223504 ],\n",
       "       [ 0.00737463],\n",
       "       [-0.03733529],\n",
       "       [ 0.00912548],\n",
       "       [ 0.00452148],\n",
       "       [ 0.00525131],\n",
       "       [ 0.04850746],\n",
       "       [-0.05124555],\n",
       "       [-0.01425356],\n",
       "       [ 0.01674277],\n",
       "       [ 0.05464072],\n",
       "       [-0.01916253],\n",
       "       [ 0.01230101],\n",
       "       [-0.00357398],\n",
       "       [-0.01936872],\n",
       "       [-0.01243599],\n",
       "       [-0.00222222],\n",
       "       [ 0.0074239 ],\n",
       "       [ 0.0036846 ],\n",
       "       [-0.00146843],\n",
       "       [ 0.01102941],\n",
       "       [-0.01527273],\n",
       "       [ 0.00443131],\n",
       "       [-0.0125    ],\n",
       "       [-0.01042442],\n",
       "       [-0.00752445],\n",
       "       [ 0.0075815 ],\n",
       "       [-0.03386005],\n",
       "       [-0.00934579],\n",
       "       [-0.01336478],\n",
       "       [ 0.01593625],\n",
       "       [-0.00235294],\n",
       "       [ 0.00314465],\n",
       "       [-0.02037618],\n",
       "       [-0.0472    ],\n",
       "       [ 0.00335852],\n",
       "       [-0.0209205 ],\n",
       "       [ 0.0017094 ],\n",
       "       [-0.02303754],\n",
       "       [ 0.02620087],\n",
       "       [-0.00085106],\n",
       "       [ 0.04344123],\n",
       "       [-0.00163265],\n",
       "       [-0.02452984],\n",
       "       [-0.0217938 ],\n",
       "       [-0.00342759],\n",
       "       [ 0.01117799],\n",
       "       [ 0.00510204],\n",
       "       [ 0.        ],\n",
       "       [-0.01861252],\n",
       "       [ 0.01034483],\n",
       "       [-0.00426621],\n",
       "       [ 0.0017138 ],\n",
       "       [-0.01796407],\n",
       "       [-0.01567944],\n",
       "       [ 0.00530973],\n",
       "       [ 0.03785211],\n",
       "       [-0.00763359],\n",
       "       [-0.0034188 ],\n",
       "       [-0.02315609],\n",
       "       [ 0.00965759],\n",
       "       [ 0.00521739],\n",
       "       [-0.01384083],\n",
       "       [-0.00175439],\n",
       "       [ 0.01669596],\n",
       "       [ 0.03716508],\n",
       "       [-0.005     ],\n",
       "       [ 0.02345059],\n",
       "       [-0.01145663],\n",
       "       [-0.00910596],\n",
       "       [-0.02589808],\n",
       "       [ 0.02915952],\n",
       "       [-0.02      ],\n",
       "       [-0.01360544],\n",
       "       [-0.03793103],\n",
       "       [-0.0125448 ],\n",
       "       [ 0.00816697],\n",
       "       [ 0.01170117],\n",
       "       [-0.00978648],\n",
       "       [-0.00808625],\n",
       "       [-0.00543478],\n",
       "       [-0.02550091],\n",
       "       [ 0.00654206],\n",
       "       [ 0.00278552],\n",
       "       [-0.04537037],\n",
       "       [-0.00678952],\n",
       "       [ 0.01074219],\n",
       "       [ 0.02028986],\n",
       "       [-0.02272727],\n",
       "       [ 0.01453488],\n",
       "       [-0.00859599],\n",
       "       [-0.01348748],\n",
       "       [-0.01367188],\n",
       "       [ 0.06831683],\n",
       "       [ 0.        ],\n",
       "       [-0.0176089 ],\n",
       "       [ 0.00943396],\n",
       "       [ 0.00654206],\n",
       "       [ 0.00092851],\n",
       "       [-0.00092764],\n",
       "       [ 0.00278552],\n",
       "       [ 0.01018519],\n",
       "       [-0.01283226],\n",
       "       [ 0.00185701],\n",
       "       [ 0.04541242],\n",
       "       [-0.00797872],\n",
       "       [ 0.01519214],\n",
       "       [ 0.00352113],\n",
       "       [-0.01052632],\n",
       "       [-0.02748227],\n",
       "       [ 0.00182315],\n",
       "       [-0.00818926],\n",
       "       [-0.00917431],\n",
       "       [-0.01018519],\n",
       "       [ 0.03461179],\n",
       "       [ 0.02169982],\n",
       "       [-0.00619469],\n",
       "       [ 0.00178094],\n",
       "       [-0.01955556],\n",
       "       [ 0.01178604],\n",
       "       [-0.00179211],\n",
       "       [-0.01346499],\n",
       "       [-0.00363967],\n",
       "       [-0.00913242],\n",
       "       [ 0.00737327],\n",
       "       [ 0.01097896],\n",
       "       [ 0.02624434],\n",
       "       [-0.00970018],\n",
       "       [ 0.00712378],\n",
       "       [-0.01061008],\n",
       "       [ 0.00714924],\n",
       "       [ 0.        ],\n",
       "       [-0.00266193],\n",
       "       [ 0.00800712],\n",
       "       [ 0.00529568],\n",
       "       [ 0.0166813 ],\n",
       "       [ 0.        ],\n",
       "       [ 0.        ],\n",
       "       [ 0.00172712],\n",
       "       [-0.00862069],\n",
       "       [ 0.        ],\n",
       "       [ 0.00086957],\n",
       "       [-0.01563858],\n",
       "       [ 0.00882613],\n",
       "       [-0.00437445],\n",
       "       [ 0.00878735],\n",
       "       [ 0.02351916],\n",
       "       [ 0.00255319],\n",
       "       [ 0.00309917],\n",
       "       [ 0.04222451],\n",
       "       [ 0.00098814],\n",
       "       [-0.0088845 ],\n",
       "       [-0.01792829],\n",
       "       [-0.00811359],\n",
       "       [ 0.00715746],\n",
       "       [-0.00812183],\n",
       "       [ 0.00307062],\n",
       "       [-0.00306122],\n",
       "       [ 0.00511771],\n",
       "       [ 0.        ],\n",
       "       [ 0.00916497],\n",
       "       [-0.00504541],\n",
       "       [ 0.0030426 ],\n",
       "       [ 0.00707786],\n",
       "       [-0.00502008],\n",
       "       [-0.00504541],\n",
       "       [ 0.00709939],\n",
       "       [-0.02819738],\n",
       "       [ 0.00207254],\n",
       "       [ 0.        ],\n",
       "       [ 0.00517063],\n",
       "       [ 0.        ],\n",
       "       [-0.01131687],\n",
       "       [-0.00208117],\n",
       "       [ 0.00104275],\n",
       "       [-0.00520833],\n",
       "       [ 0.01884817],\n",
       "       [ 0.00308325],\n",
       "       [ 0.04098361],\n",
       "       [ 0.00590551],\n",
       "       [ 0.05479452],\n",
       "       [ 0.00371058],\n",
       "       [-0.0064695 ],\n",
       "       [ 0.01116279],\n",
       "       [-0.01563937],\n",
       "       [ 0.02149533],\n",
       "       [-0.01006404],\n",
       "       [-0.01571165],\n",
       "       [-0.01408451],\n",
       "       [ 0.00380952],\n",
       "       [ 0.01612903],\n",
       "       [-0.01027077],\n",
       "       [ 0.00471698],\n",
       "       [-0.01032864],\n",
       "       [ 0.00379507],\n",
       "       [ 0.00661626],\n",
       "       [-0.00657277],\n",
       "       [-0.01039698],\n",
       "       [-0.01241643],\n",
       "       [ 0.00096712],\n",
       "       [-0.01352657],\n",
       "       [-0.00195886],\n",
       "       [ 0.00490677],\n",
       "       [-0.00878906],\n",
       "       [ 0.00985222],\n",
       "       [ 0.00487805],\n",
       "       [ 0.01456311],\n",
       "       [ 0.00478469],\n",
       "       [ 0.0047619 ],\n",
       "       [ 0.00189573],\n",
       "       [-0.01040681],\n",
       "       [-0.0124283 ],\n",
       "       [ 0.00387222],\n",
       "       [ 0.        ],\n",
       "       [-0.00578592],\n",
       "       [-0.00581959],\n",
       "       [ 0.00097561],\n",
       "       [ 0.00682261],\n",
       "       [ 0.00484027],\n",
       "       [-0.03082852],\n",
       "       [ 0.00397614],\n",
       "       [ 0.01782178],\n",
       "       [-0.00972763],\n",
       "       [-0.00589391],\n",
       "       [ 0.        ],\n",
       "       [ 0.00197628],\n",
       "       [ 0.01183432],\n",
       "       [-0.00584795],\n",
       "       [-0.00392157],\n",
       "       [-0.00590551],\n",
       "       [ 0.0019802 ],\n",
       "       [ 0.00395257],\n",
       "       [ 0.00393701],\n",
       "       [-0.00784314],\n",
       "       [ 0.00494071],\n",
       "       [-0.00786627],\n",
       "       [ 0.00099108],\n",
       "       [ 0.01386139],\n",
       "       [-0.00585938],\n",
       "       [-0.01571709],\n",
       "       [ 0.01497006],\n",
       "       [ 0.01278269],\n",
       "       [ 0.01262136],\n",
       "       [ 0.05752637],\n",
       "       [ 0.00725295],\n",
       "       [-0.02340234],\n",
       "       [-0.00276498],\n",
       "       [ 0.00184843],\n",
       "       [ 0.00645756],\n",
       "       [ 0.02108158],\n",
       "       [ 0.01166966],\n",
       "       [-0.00621118],\n",
       "       [-0.01339286],\n",
       "       [-0.01085973],\n",
       "       [-0.01555352],\n",
       "       [-0.01394052],\n",
       "       [ 0.00188501],\n",
       "       [ 0.        ],\n",
       "       [ 0.01599247],\n",
       "       [-0.00185185],\n",
       "       [ 0.01855288],\n",
       "       [ 0.02094718],\n",
       "       [ 0.00892061],\n",
       "       [ 0.09991158],\n",
       "       [-0.02009646],\n",
       "       [ 0.07629204],\n",
       "       [-0.00152439],\n",
       "       [ 0.06564885],\n",
       "       [ 0.04083095],\n",
       "       [ 0.04817619],\n",
       "       [-0.09980302],\n",
       "       [ 0.03501094],\n",
       "       [-0.01902748],\n",
       "       [ 0.00143678],\n",
       "       [-0.02582496],\n",
       "       [ 0.05964654],\n",
       "       [ 0.06740792],\n",
       "       [-0.03059896],\n",
       "       [ 0.00738751],\n",
       "       [ 0.02266667],\n",
       "       [-0.03846154],\n",
       "       [-0.04610169],\n",
       "       [ 0.04406539],\n",
       "       [ 0.02791014],\n",
       "       [-0.01192053],\n",
       "       [ 0.03887399],\n",
       "       [ 0.02193548],\n",
       "       [ 0.01136364],\n",
       "       [-0.01498127],\n",
       "       [-0.01901141],\n",
       "       [-0.03359173],\n",
       "       [ 0.00802139],\n",
       "       [-0.02055703],\n",
       "       [-0.00609343],\n",
       "       [ 0.00885559],\n",
       "       [ 0.03646185],\n",
       "       [ 0.00130293],\n",
       "       [-0.10019519],\n",
       "       [ 0.        ],\n",
       "       [ 0.04266088],\n",
       "       [-0.00832178],\n",
       "       [ 0.00699301],\n",
       "       [-0.00416667],\n",
       "       [-0.02440725],\n",
       "       [ 0.00500357],\n",
       "       [-0.0113798 ],\n",
       "       [ 0.00215827],\n",
       "       [-0.02153625],\n",
       "       [ 0.02347762],\n",
       "       [-0.0172043 ],\n",
       "       [ 0.00583516],\n",
       "       [-0.02030457],\n",
       "       [ 0.00074019],\n",
       "       [ 0.01849112],\n",
       "       [-0.00290487],\n",
       "       [ 0.00946832],\n",
       "       [ 0.00649351],\n",
       "       [-0.00215054],\n",
       "       [ 0.00502874],\n",
       "       [-0.01358113],\n",
       "       [ 0.01956522],\n",
       "       [-0.00568586],\n",
       "       [ 0.00285919],\n",
       "       [-0.03064861],\n",
       "       [-0.00220588],\n",
       "       [-0.01400147],\n",
       "       [ 0.0044843 ],\n",
       "       [ 0.05282738],\n",
       "       [-0.02685512],\n",
       "       [ 0.00653595],\n",
       "       [ 0.05339105],\n",
       "       [ 0.02671233],\n",
       "       [ 0.02801868],\n",
       "       [-0.00064893],\n",
       "       [ 0.00714286],\n",
       "       [-0.02063185],\n",
       "       [ 0.00855826],\n",
       "       [ 0.00718016],\n",
       "       [-0.00518471],\n",
       "       [-0.0286645 ],\n",
       "       [ 0.01341382],\n",
       "       [-0.00198544],\n",
       "       [ 0.03846154],\n",
       "       [ 0.00574713],\n",
       "       [ 0.01333333],\n",
       "       [-0.01002506],\n",
       "       [ 0.00316456],\n",
       "       [ 0.06056782],\n",
       "       [ 0.06603212],\n",
       "       [ 0.00446429],\n",
       "       [ 0.1       ],\n",
       "       [ 0.01100244],\n",
       "       [-0.01451028],\n",
       "       [ 0.02147239],\n",
       "       [ 0.02102102],\n",
       "       [-0.00411765],\n",
       "       [-0.03721205],\n",
       "       [ 0.01595092],\n",
       "       [ 0.02355072],\n",
       "       [-0.01710914],\n",
       "       [-0.03121248],\n",
       "       [ 0.0173482 ],\n",
       "       [ 0.01705238],\n",
       "       [-0.00299401],\n",
       "       [ 0.003003  ],\n",
       "       [-0.01077844],\n",
       "       [-0.03995157],\n",
       "       [-0.00882724],\n",
       "       [-0.00318066],\n",
       "       [ 0.01148692],\n",
       "       [ 0.01135647],\n",
       "       [-0.00436681],\n",
       "       [-0.00501253],\n",
       "       [ 0.00062972],\n",
       "       [-0.02769037],\n",
       "       [-0.01747573],\n",
       "       [ 0.02700922],\n",
       "       [ 0.00962155],\n",
       "       [ 0.00317662],\n",
       "       [ 0.03039899],\n",
       "       [ 0.02028273],\n",
       "       [ 0.00120482],\n",
       "       [-0.00842359],\n",
       "       [-0.05946602],\n",
       "       [-0.0116129 ],\n",
       "       [ 0.03785901],\n",
       "       [-0.0081761 ],\n",
       "       [ 0.00380469],\n",
       "       [ 0.03411244],\n",
       "       [-0.00427611],\n",
       "       [ 0.0607362 ],\n",
       "       [-0.01792944],\n",
       "       [-0.01766784],\n",
       "       [-0.01199041],\n",
       "       [ 0.00182039],\n",
       "       [-0.03573592],\n",
       "       [-0.01758794],\n",
       "       [ 0.00575448],\n",
       "       [-0.02225048],\n",
       "       [-0.04876463],\n",
       "       [ 0.02187286],\n",
       "       [ 0.01137124],\n",
       "       [-0.01653439],\n",
       "       [-0.07397445],\n",
       "       [-0.01525054],\n",
       "       [ 0.07227139],\n",
       "       [-0.04264099],\n",
       "       [-0.01221264],\n",
       "       [-0.04945455],\n",
       "       [ 0.06197399]])"
      ]
     },
     "execution_count": 47,
     "metadata": {},
     "output_type": "execute_result"
    }
   ],
   "source": [
    "data.values"
   ]
  },
  {
   "cell_type": "code",
   "execution_count": 45,
   "metadata": {},
   "outputs": [
    {
     "data": {
      "text/plain": [
       "2013-04-01    0.013419\n",
       "2013-04-02    0.002452\n",
       "2013-04-03    0.000489\n",
       "2013-04-08   -0.025428\n",
       "2013-04-09    0.000502\n",
       "Name: return, dtype: float64"
      ]
     },
     "execution_count": 45,
     "metadata": {},
     "output_type": "execute_result"
    }
   ],
   "source": [
    "data['return'].head()"
   ]
  },
  {
   "cell_type": "code",
   "execution_count": 46,
   "metadata": {},
   "outputs": [
    {
     "data": {
      "text/html": [
       "<div>\n",
       "<style scoped>\n",
       "    .dataframe tbody tr th:only-of-type {\n",
       "        vertical-align: middle;\n",
       "    }\n",
       "\n",
       "    .dataframe tbody tr th {\n",
       "        vertical-align: top;\n",
       "    }\n",
       "\n",
       "    .dataframe thead th {\n",
       "        text-align: right;\n",
       "    }\n",
       "</style>\n",
       "<table border=\"1\" class=\"dataframe\">\n",
       "  <thead>\n",
       "    <tr style=\"text-align: right;\">\n",
       "      <th></th>\n",
       "      <th>return</th>\n",
       "    </tr>\n",
       "  </thead>\n",
       "  <tbody>\n",
       "    <tr>\n",
       "      <th>2013-04-01</th>\n",
       "      <td>0.013419</td>\n",
       "    </tr>\n",
       "    <tr>\n",
       "      <th>2013-04-02</th>\n",
       "      <td>0.002452</td>\n",
       "    </tr>\n",
       "    <tr>\n",
       "      <th>2013-04-03</th>\n",
       "      <td>0.000489</td>\n",
       "    </tr>\n",
       "  </tbody>\n",
       "</table>\n",
       "</div>"
      ],
      "text/plain": [
       "              return\n",
       "2013-04-01  0.013419\n",
       "2013-04-02  0.002452\n",
       "2013-04-03  0.000489"
      ]
     },
     "execution_count": 46,
     "metadata": {},
     "output_type": "execute_result"
    }
   ],
   "source": [
    "data.iloc[:3, :]"
   ]
  },
  {
   "cell_type": "code",
   "execution_count": 53,
   "metadata": {},
   "outputs": [
    {
     "data": {
      "text/html": [
       "<div>\n",
       "<style scoped>\n",
       "    .dataframe tbody tr th:only-of-type {\n",
       "        vertical-align: middle;\n",
       "    }\n",
       "\n",
       "    .dataframe tbody tr th {\n",
       "        vertical-align: top;\n",
       "    }\n",
       "\n",
       "    .dataframe thead th {\n",
       "        text-align: right;\n",
       "    }\n",
       "</style>\n",
       "<table border=\"1\" class=\"dataframe\">\n",
       "  <thead>\n",
       "    <tr style=\"text-align: right;\">\n",
       "      <th></th>\n",
       "      <th>return</th>\n",
       "    </tr>\n",
       "  </thead>\n",
       "  <tbody>\n",
       "    <tr>\n",
       "      <th>2013-04-01</th>\n",
       "      <td>0.013419</td>\n",
       "    </tr>\n",
       "    <tr>\n",
       "      <th>2013-04-02</th>\n",
       "      <td>0.002452</td>\n",
       "    </tr>\n",
       "    <tr>\n",
       "      <th>2013-04-03</th>\n",
       "      <td>0.000489</td>\n",
       "    </tr>\n",
       "    <tr>\n",
       "      <th>2013-04-08</th>\n",
       "      <td>-0.025428</td>\n",
       "    </tr>\n",
       "  </tbody>\n",
       "</table>\n",
       "</div>"
      ],
      "text/plain": [
       "              return\n",
       "2013-04-01  0.013419\n",
       "2013-04-02  0.002452\n",
       "2013-04-03  0.000489\n",
       "2013-04-08 -0.025428"
      ]
     },
     "execution_count": 53,
     "metadata": {},
     "output_type": "execute_result"
    }
   ],
   "source": [
    "data.loc['2013-04-01': '2013-04-08', :]"
   ]
  },
  {
   "cell_type": "code",
   "execution_count": 65,
   "metadata": {},
   "outputs": [
    {
     "data": {
      "text/plain": [
       "return    0.001207\n",
       "dtype: float64"
      ]
     },
     "execution_count": 65,
     "metadata": {},
     "output_type": "execute_result"
    }
   ],
   "source": [
    "#统计特性\n",
    "data.mean(axis=0)"
   ]
  },
  {
   "cell_type": "code",
   "execution_count": 67,
   "metadata": {},
   "outputs": [
    {
     "data": {
      "text/plain": [
       "return    0.024901\n",
       "dtype: float64"
      ]
     },
     "execution_count": 67,
     "metadata": {},
     "output_type": "execute_result"
    }
   ],
   "source": [
    "data.std()"
   ]
  },
  {
   "cell_type": "code",
   "execution_count": null,
   "metadata": {},
   "outputs": [],
   "source": []
  }
 ],
 "metadata": {
  "kernelspec": {
   "display_name": "Python 3",
   "language": "python",
   "name": "python3"
  },
  "language_info": {
   "codemirror_mode": {
    "name": "ipython",
    "version": 3
   },
   "file_extension": ".py",
   "mimetype": "text/x-python",
   "name": "python",
   "nbconvert_exporter": "python",
   "pygments_lexer": "ipython3",
   "version": "3.6.5"
  }
 },
 "nbformat": 4,
 "nbformat_minor": 2
}
