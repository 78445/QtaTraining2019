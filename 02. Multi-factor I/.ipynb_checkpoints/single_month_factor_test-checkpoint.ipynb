{
 "cells": [
  {
   "cell_type": "code",
   "execution_count": 1,
   "metadata": {},
   "outputs": [],
   "source": [
    "#该脚本需要在JointQuant上运行\n",
    "\n",
    "import pandas as pd\n",
    "import numpy as np\n",
    "import matplotlib.pyplot as plt"
   ]
  },
  {
   "cell_type": "markdown",
   "metadata": {},
   "source": [
    "# a factor test for one month with no change hands"
   ]
  },
  {
   "cell_type": "markdown",
   "metadata": {},
   "source": [
    "# self defined functions"
   ]
  },
  {
   "cell_type": "code",
   "execution_count": 2,
   "metadata": {},
   "outputs": [],
   "source": [
    "def normalization(aSeries): #标准化\n",
    "    sMean = aSeries.mean()\n",
    "    sStd = aSeries.std()\n",
    "    aSeries = (aSeries-sMean)/sStd\n",
    "    return(aSeries)"
   ]
  },
  {
   "cell_type": "code",
   "execution_count": 23,
   "metadata": {},
   "outputs": [],
   "source": [
    "def getGroupReturn(group, startdate, enddate):\n",
    "    aGroupDict = pd.DataFrame()\n",
    "#     print(group)\n",
    "    for aIndex in group.index:          \n",
    "        try:\n",
    "            aGroupDict[aIndex] =get_price(aIndex, start_date=startdate, end_date=enddate,panel=False,fields = ['close'])['close']\n",
    "        except :\n",
    "            print(aIndex)\n",
    "    aGroupReturn = aGroupDict.pct_change().mean(axis = 1)\n",
    "#     print(aGroupDict, aGroupReturn)\n",
    "    return(aGroupReturn)   "
   ]
  },
  {
   "cell_type": "markdown",
   "metadata": {},
   "source": [
    "# set the timerage for future use\n",
    "in this case we only use one month that is \n",
    "\n",
    "startdate = timerange[0]\n",
    "\n",
    "\n",
    "enddate = timerange[1]"
   ]
  },
  {
   "cell_type": "code",
   "execution_count": 4,
   "metadata": {},
   "outputs": [],
   "source": [
    "# s_code = get_all_securities().index\n",
    "timerange = pd.date_range(\"2018-01\",\"2018-12\",freq=\"1M\")"
   ]
  },
  {
   "cell_type": "markdown",
   "metadata": {},
   "source": [
    "# get data with quary"
   ]
  },
  {
   "cell_type": "code",
   "execution_count": 5,
   "metadata": {},
   "outputs": [],
   "source": [
    "startdate = timerange[0]\n",
    "enddate = timerange[1]\n",
    "# get index data\n",
    "q = query(\n",
    "    valuation\n",
    ").filter(#此处可以加过滤规则\n",
    "    \n",
    ")\n",
    "df = get_fundamentals(q, startdate)\n",
    "tmpIndexDf = df.set_index(\"code\").loc[:,[\"pe_ratio\",\"turnover_ratio\",\"pb_ratio\",\"ps_ratio\",\"pcf_ratio\"]]"
   ]
  },
  {
   "cell_type": "markdown",
   "metadata": {},
   "source": [
    "# preprocess\n",
    "\n",
    "- normalization\n",
    "- fill up na"
   ]
  },
  {
   "cell_type": "code",
   "execution_count": 6,
   "metadata": {},
   "outputs": [],
   "source": [
    "tmpIndexDf = tmpIndexDf.apply(normalization)\n",
    "tmpIndexDf = tmpIndexDf.fillna(method = 'ffill') #缺失值处理"
   ]
  },
  {
   "cell_type": "markdown",
   "metadata": {},
   "source": [
    "# get the risidual as our factor"
   ]
  },
  {
   "cell_type": "code",
   "execution_count": 7,
   "metadata": {},
   "outputs": [
    {
     "data": {
      "text/plain": [
       "array([-0.00429314504697836, -0.0015857546494727726,\n",
       "       -0.019961410871990583, ..., -0.014798544809935702,\n",
       "       -0.008463125187635381, -0.016625330527394715])"
      ]
     },
     "execution_count": 7,
     "metadata": {},
     "output_type": "execute_result"
    }
   ],
   "source": [
    "from sklearn.linear_model import LinearRegression\n",
    "\n",
    "targetColumn = 0\n",
    "X_train = np.array(tmpIndexDf.drop(tmpIndexDf.columns[targetColumn],axis = 1)) #这边一般跟风险因子做回归，剔除影响取残差作为因子的新值\n",
    "y_train = np.array(tmpIndexDf.iloc[:,targetColumn])\n",
    "\n",
    "y_train.reshape(1,-1)\n",
    "linreg = LinearRegression()\n",
    "linreg.fit(X_train, y_train)\n",
    "\n",
    "linreg.score(X_train, y_train)\n",
    "risidual = y_train - linreg.predict(X_train)\n",
    "risidual"
   ]
  },
  {
   "cell_type": "markdown",
   "metadata": {},
   "source": [
    "# sort the stocks with our factor"
   ]
  },
  {
   "cell_type": "code",
   "execution_count": 8,
   "metadata": {},
   "outputs": [
    {
     "data": {
      "text/html": [
       "<div>\n",
       "<style scoped>\n",
       "    .dataframe tbody tr th:only-of-type {\n",
       "        vertical-align: middle;\n",
       "    }\n",
       "\n",
       "    .dataframe tbody tr th {\n",
       "        vertical-align: top;\n",
       "    }\n",
       "\n",
       "    .dataframe thead th {\n",
       "        text-align: right;\n",
       "    }\n",
       "</style>\n",
       "<table border=\"1\" class=\"dataframe\">\n",
       "  <thead>\n",
       "    <tr style=\"text-align: right;\">\n",
       "      <th></th>\n",
       "      <th>display_name</th>\n",
       "      <th>name</th>\n",
       "      <th>start_date</th>\n",
       "      <th>end_date</th>\n",
       "      <th>type</th>\n",
       "    </tr>\n",
       "    <tr>\n",
       "      <th>code</th>\n",
       "      <th></th>\n",
       "      <th></th>\n",
       "      <th></th>\n",
       "      <th></th>\n",
       "      <th></th>\n",
       "    </tr>\n",
       "  </thead>\n",
       "  <tbody>\n",
       "    <tr>\n",
       "      <th>600636.XSHG</th>\n",
       "      <td>三爱富</td>\n",
       "      <td>SAF</td>\n",
       "      <td>1993-03-16</td>\n",
       "      <td>2200-01-01</td>\n",
       "      <td>stock</td>\n",
       "    </tr>\n",
       "    <tr>\n",
       "      <th>300345.XSHE</th>\n",
       "      <td>红宇新材</td>\n",
       "      <td>HYXC</td>\n",
       "      <td>2012-08-01</td>\n",
       "      <td>2200-01-01</td>\n",
       "      <td>stock</td>\n",
       "    </tr>\n",
       "    <tr>\n",
       "      <th>600890.XSHG</th>\n",
       "      <td>中房股份</td>\n",
       "      <td>ZFGF</td>\n",
       "      <td>1996-03-18</td>\n",
       "      <td>2200-01-01</td>\n",
       "      <td>stock</td>\n",
       "    </tr>\n",
       "    <tr>\n",
       "      <th>600760.XSHG</th>\n",
       "      <td>中航沈飞</td>\n",
       "      <td>ZHSF</td>\n",
       "      <td>1996-10-11</td>\n",
       "      <td>2200-01-01</td>\n",
       "      <td>stock</td>\n",
       "    </tr>\n",
       "    <tr>\n",
       "      <th>600129.XSHG</th>\n",
       "      <td>太极集团</td>\n",
       "      <td>TJJT</td>\n",
       "      <td>1997-11-18</td>\n",
       "      <td>2200-01-01</td>\n",
       "      <td>stock</td>\n",
       "    </tr>\n",
       "  </tbody>\n",
       "</table>\n",
       "</div>"
      ],
      "text/plain": [
       "            display_name  name  start_date    end_date   type\n",
       "code                                                         \n",
       "600636.XSHG          三爱富   SAF  1993-03-16  2200-01-01  stock\n",
       "300345.XSHE         红宇新材  HYXC  2012-08-01  2200-01-01  stock\n",
       "600890.XSHG         中房股份  ZFGF  1996-03-18  2200-01-01  stock\n",
       "600760.XSHG         中航沈飞  ZHSF  1996-10-11  2200-01-01  stock\n",
       "600129.XSHG         太极集团  TJJT  1997-11-18  2200-01-01  stock"
      ]
     },
     "execution_count": 8,
     "metadata": {},
     "output_type": "execute_result"
    }
   ],
   "source": [
    "tmpIndexDf['index1_risidual'] = risidual\n",
    "sortedIndexDf = tmpIndexDf.sort_values(\"index1_risidual\", ascending = False)\n",
    "get_all_securities().loc[sortedIndexDf.index].head()"
   ]
  },
  {
   "cell_type": "markdown",
   "metadata": {},
   "source": [
    "# put them into groups "
   ]
  },
  {
   "cell_type": "code",
   "execution_count": 9,
   "metadata": {},
   "outputs": [],
   "source": [
    "sortedSecurities = get_all_securities().loc[sortedIndexDf.index]\n",
    "NumInGroup = int(len(sortedSecurities)/5)\n",
    "group1 = sortedSecurities[:NumInGroup]\n",
    "group2 = sortedSecurities[NumInGroup:NumInGroup*2]\n",
    "group3 = sortedSecurities[NumInGroup*2:NumInGroup*3]\n",
    "group4 = sortedSecurities[NumInGroup*3:NumInGroup*4]\n",
    "group5 = sortedSecurities[NumInGroup*4:]\n",
    "groupList = [group1,group2,group3,group4,group5]"
   ]
  },
  {
   "cell_type": "markdown",
   "metadata": {},
   "source": [
    "# Plot the return of each group"
   ]
  },
  {
   "cell_type": "code",
   "execution_count": 24,
   "metadata": {},
   "outputs": [
    {
     "data": {
      "image/png": "[encoded data removed]",
      "text/plain": [
       "<Figure size 432x288 with 1 Axes>"
      ]
     },
     "metadata": {
      "needs_background": "light"
     },
     "output_type": "display_data"
    }
   ],
   "source": [
    "fig  = plt.Figure(figsize=(50,20))\n",
    "groupReturn = {}\n",
    "for num, aGroup in enumerate(groupList):\n",
    "    aGroupReturn = getGroupReturn(aGroup, startdate = startdate, enddate = enddate)\n",
    "    \n",
    "    groupReturn.update({num:(aGroupReturn+1).cumprod()-1})\n",
    "    plt.plot((aGroupReturn+1).cumprod()-1)\n",
    "    \n",
    "    \n",
    "plt.show()"
   ]
  },
  {
   "cell_type": "code",
   "execution_count": 16,
   "metadata": {},
   "outputs": [
    {
     "data": {
      "text/html": [
       "<div>\n",
       "<style scoped>\n",
       "    .dataframe tbody tr th:only-of-type {\n",
       "        vertical-align: middle;\n",
       "    }\n",
       "\n",
       "    .dataframe tbody tr th {\n",
       "        vertical-align: top;\n",
       "    }\n",
       "\n",
       "    .dataframe thead th {\n",
       "        text-align: right;\n",
       "    }\n",
       "</style>\n",
       "<table border=\"1\" class=\"dataframe\">\n",
       "  <thead>\n",
       "    <tr style=\"text-align: right;\">\n",
       "      <th></th>\n",
       "      <th>0</th>\n",
       "      <th>1</th>\n",
       "      <th>2</th>\n",
       "      <th>3</th>\n",
       "      <th>4</th>\n",
       "    </tr>\n",
       "  </thead>\n",
       "  <tbody>\n",
       "    <tr>\n",
       "      <th>2018-01-31</th>\n",
       "      <td>NaN</td>\n",
       "      <td>NaN</td>\n",
       "      <td>NaN</td>\n",
       "      <td>NaN</td>\n",
       "      <td>NaN</td>\n",
       "    </tr>\n",
       "    <tr>\n",
       "      <th>2018-02-01</th>\n",
       "      <td>0.005682</td>\n",
       "      <td>-0.019626</td>\n",
       "      <td>0.020117</td>\n",
       "      <td>-0.066362</td>\n",
       "      <td>-0.052581</td>\n",
       "    </tr>\n",
       "    <tr>\n",
       "      <th>2018-02-02</th>\n",
       "      <td>0.017756</td>\n",
       "      <td>-0.011215</td>\n",
       "      <td>-0.017603</td>\n",
       "      <td>-0.075515</td>\n",
       "      <td>-0.036329</td>\n",
       "    </tr>\n",
       "    <tr>\n",
       "      <th>2018-02-05</th>\n",
       "      <td>0.018466</td>\n",
       "      <td>-0.010280</td>\n",
       "      <td>-0.028500</td>\n",
       "      <td>-0.086957</td>\n",
       "      <td>-0.044933</td>\n",
       "    </tr>\n",
       "    <tr>\n",
       "      <th>2018-02-06</th>\n",
       "      <td>-0.017756</td>\n",
       "      <td>-0.075701</td>\n",
       "      <td>-0.028500</td>\n",
       "      <td>-0.146453</td>\n",
       "      <td>-0.086998</td>\n",
       "    </tr>\n",
       "    <tr>\n",
       "      <th>2018-02-07</th>\n",
       "      <td>-0.007102</td>\n",
       "      <td>-0.073832</td>\n",
       "      <td>-0.032691</td>\n",
       "      <td>-0.135011</td>\n",
       "      <td>-0.066922</td>\n",
       "    </tr>\n",
       "    <tr>\n",
       "      <th>2018-02-08</th>\n",
       "      <td>0.010653</td>\n",
       "      <td>-0.073832</td>\n",
       "      <td>-0.018441</td>\n",
       "      <td>-0.109840</td>\n",
       "      <td>-0.048757</td>\n",
       "    </tr>\n",
       "    <tr>\n",
       "      <th>2018-02-09</th>\n",
       "      <td>-0.017045</td>\n",
       "      <td>-0.144860</td>\n",
       "      <td>-0.039396</td>\n",
       "      <td>-0.132723</td>\n",
       "      <td>-0.047801</td>\n",
       "    </tr>\n",
       "    <tr>\n",
       "      <th>2018-02-12</th>\n",
       "      <td>0.006392</td>\n",
       "      <td>-0.129907</td>\n",
       "      <td>-0.046102</td>\n",
       "      <td>-0.107551</td>\n",
       "      <td>-0.021033</td>\n",
       "    </tr>\n",
       "    <tr>\n",
       "      <th>2018-02-13</th>\n",
       "      <td>0.029830</td>\n",
       "      <td>-0.150467</td>\n",
       "      <td>-0.044426</td>\n",
       "      <td>-0.116705</td>\n",
       "      <td>-0.031549</td>\n",
       "    </tr>\n",
       "    <tr>\n",
       "      <th>2018-02-14</th>\n",
       "      <td>0.030540</td>\n",
       "      <td>-0.157009</td>\n",
       "      <td>-0.049455</td>\n",
       "      <td>-0.112128</td>\n",
       "      <td>-0.030593</td>\n",
       "    </tr>\n",
       "    <tr>\n",
       "      <th>2018-02-22</th>\n",
       "      <td>0.039063</td>\n",
       "      <td>-0.138318</td>\n",
       "      <td>-0.039396</td>\n",
       "      <td>-0.102975</td>\n",
       "      <td>-0.028681</td>\n",
       "    </tr>\n",
       "    <tr>\n",
       "      <th>2018-02-23</th>\n",
       "      <td>0.030540</td>\n",
       "      <td>-0.069159</td>\n",
       "      <td>0.030176</td>\n",
       "      <td>-0.102975</td>\n",
       "      <td>-0.037285</td>\n",
       "    </tr>\n",
       "    <tr>\n",
       "      <th>2018-02-26</th>\n",
       "      <td>0.027699</td>\n",
       "      <td>-0.063551</td>\n",
       "      <td>0.041911</td>\n",
       "      <td>-0.086957</td>\n",
       "      <td>-0.010516</td>\n",
       "    </tr>\n",
       "    <tr>\n",
       "      <th>2018-02-27</th>\n",
       "      <td>0.040483</td>\n",
       "      <td>-0.076636</td>\n",
       "      <td>0.037720</td>\n",
       "      <td>-0.084668</td>\n",
       "      <td>0.003824</td>\n",
       "    </tr>\n",
       "    <tr>\n",
       "      <th>2018-02-28</th>\n",
       "      <td>0.045455</td>\n",
       "      <td>-0.091589</td>\n",
       "      <td>0.024308</td>\n",
       "      <td>-0.089245</td>\n",
       "      <td>-0.000956</td>\n",
       "    </tr>\n",
       "  </tbody>\n",
       "</table>\n",
       "</div>"
      ],
      "text/plain": [
       "                   0         1         2         3         4\n",
       "2018-01-31       NaN       NaN       NaN       NaN       NaN\n",
       "2018-02-01  0.005682 -0.019626  0.020117 -0.066362 -0.052581\n",
       "2018-02-02  0.017756 -0.011215 -0.017603 -0.075515 -0.036329\n",
       "2018-02-05  0.018466 -0.010280 -0.028500 -0.086957 -0.044933\n",
       "2018-02-06 -0.017756 -0.075701 -0.028500 -0.146453 -0.086998\n",
       "2018-02-07 -0.007102 -0.073832 -0.032691 -0.135011 -0.066922\n",
       "2018-02-08  0.010653 -0.073832 -0.018441 -0.109840 -0.048757\n",
       "2018-02-09 -0.017045 -0.144860 -0.039396 -0.132723 -0.047801\n",
       "2018-02-12  0.006392 -0.129907 -0.046102 -0.107551 -0.021033\n",
       "2018-02-13  0.029830 -0.150467 -0.044426 -0.116705 -0.031549\n",
       "2018-02-14  0.030540 -0.157009 -0.049455 -0.112128 -0.030593\n",
       "2018-02-22  0.039063 -0.138318 -0.039396 -0.102975 -0.028681\n",
       "2018-02-23  0.030540 -0.069159  0.030176 -0.102975 -0.037285\n",
       "2018-02-26  0.027699 -0.063551  0.041911 -0.086957 -0.010516\n",
       "2018-02-27  0.040483 -0.076636  0.037720 -0.084668  0.003824\n",
       "2018-02-28  0.045455 -0.091589  0.024308 -0.089245 -0.000956"
      ]
     },
     "execution_count": 16,
     "metadata": {},
     "output_type": "execute_result"
    }
   ],
   "source": [
    "pd.DataFrame(groupReturn)"
   ]
  },
  {
   "cell_type": "markdown",
   "metadata": {},
   "source": [
    "# bang we are done for now"
   ]
  }
 ],
 "metadata": {
  "kernelspec": {
   "display_name": "Python 3",
   "language": "python",
   "name": "python3"
  },
  "language_info": {
   "codemirror_mode": {
    "name": "ipython",
    "version": 3
   },
   "file_extension": ".py",
   "mimetype": "text/x-python",
   "name": "python",
   "nbconvert_exporter": "python",
   "pygments_lexer": "ipython3",
   "version": "3.6.4"
  },
  "toc": {
   "base_numbering": 1,
   "nav_menu": {},
   "number_sections": false,
   "sideBar": true,
   "skip_h1_title": false,
   "title_cell": "MarkDown菜单",
   "title_sidebar": "Contents",
   "toc_cell": false,
   "toc_position": {},
   "toc_section_display": true,
   "toc_window_display": true
  }
 },
 "nbformat": 4,
 "nbformat_minor": 2
}
