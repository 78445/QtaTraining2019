{
 "cells": [
  {
   "cell_type": "code",
   "execution_count": 14,
   "metadata": {},
   "outputs": [
    {
     "name": "stdout",
     "output_type": "stream",
     "text": [
      "0.5247252747252747\n",
      "0.5137362637362637\n"
     ]
    }
   ],
   "source": [
    "# 导入需要的数据包\n",
    "from sklearn.datasets import load_iris \n",
    "from sklearn.model_selection import train_test_split\n",
    "from sklearn import tree\n",
    "import pydotplus\n",
    "from sklearn.externals.six import StringIO\n",
    "from IPython.display import Image, display\n",
    "from sklearn.metrics import accuracy_score\n",
    "from sklearn.ensemble import RandomForestClassifier\n",
    "import talib\n",
    "from jqdata import *\n",
    "\n",
    "#load_iris是sklearn的测试数据，在这用来做决策树演示\n",
    "iris = load_iris()\n",
    "\n",
    "#建立最大深度为2的决策树，并用测试数据来训练这颗树\n",
    "\n",
    "\n",
    "#开始利用机器学习算法计算，括号里面的n_estimators就是森林中包含的树的数目啦\n",
    "clf_forest = RandomForestClassifier(n_estimators=50,max_depth=7)\n",
    "clf_tree = tree.DecisionTreeClassifier(max_depth=7)\n",
    "\n",
    "test_stock = '000001.XSHG'\n",
    "start_date = datetime.date(2010, 6, 4)\n",
    "end_date = datetime.date(2016, 6, 3)\n",
    "\n",
    "trading_days = list(get_all_trade_days())\n",
    "start_date_index = trading_days.index(start_date)\n",
    "end_date_index = trading_days.index(end_date)\n",
    "\n",
    "x_all = []\n",
    "y_all = []\n",
    "\n",
    "for index in range(start_date_index, end_date_index):\n",
    "    # 得到计算指标的所有数据\n",
    "    start_day = trading_days[index - 30]\n",
    "    end_day = trading_days[index]\n",
    "    stock_data = get_price(test_stock, start_date=start_day, end_date=end_day, frequency='daily', fields=['close'])\n",
    "    close_prices = stock_data['close'].values\n",
    "    \n",
    "    #通过数据计算指标\n",
    "    # -2是保证获取的数据是昨天的，-1就是通过今天的数据计算出来的指标\n",
    "    sma_data = talib.SMA(close_prices)[-2] \n",
    "    wma_data = talib.WMA(close_prices)[-2]\n",
    "    mom_data = talib.MOM(close_prices)[-2]\n",
    "    \n",
    "    features = []\n",
    "    features.append(sma_data)\n",
    "    features.append(wma_data)\n",
    "    features.append(mom_data)\n",
    "    \n",
    "    label = False\n",
    "    if close_prices[-1] > close_prices[-2]:\n",
    "        label = True\n",
    "    x_all.append(features)\n",
    "    y_all.append(label)\n",
    "    \n",
    "\n",
    "\n",
    "train_X, test_X, train_y, test_y = train_test_split(x_all, y_all, test_size=0.5)\n",
    "clf_forest.fit(train_X, train_y)\n",
    "clf_tree.fit(train_X, train_y)\n",
    "\n",
    "prediction_forest = clf_forest.predict(test_X)\n",
    "prediction_tree = clf_tree.predict(test_X)\n",
    "\n",
    "print(accuracy_score(test_y, prediction_forest))\n",
    "print(accuracy_score(test_y, prediction_tree))"
   ]
  },
  {
   "cell_type": "code",
   "execution_count": null,
   "metadata": {},
   "outputs": [],
   "source": []
  }
 ],
 "metadata": {
  "kernelspec": {
   "display_name": "Python 3",
   "language": "python",
   "name": "python3"
  },
  "language_info": {
   "codemirror_mode": {
    "name": "ipython",
    "version": 3
   },
   "file_extension": ".py",
   "mimetype": "text/x-python",
   "name": "python",
   "nbconvert_exporter": "python",
   "pygments_lexer": "ipython3",
   "version": "3.6.7"
  },
  "toc": {
   "base_numbering": 1,
   "nav_menu": {},
   "number_sections": false,
   "sideBar": true,
   "skip_h1_title": false,
   "title_cell": "MarkDown菜单",
   "title_sidebar": "Contents",
   "toc_cell": false,
   "toc_position": {},
   "toc_section_display": true,
   "toc_window_display": false
  }
 },
 "nbformat": 4,
 "nbformat_minor": 2
}
